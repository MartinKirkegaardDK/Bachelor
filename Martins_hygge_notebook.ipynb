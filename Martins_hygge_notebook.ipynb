{
 "cells": [
  {
   "cell_type": "code",
   "execution_count": 1,
   "metadata": {},
   "outputs": [],
   "source": [
    "import pandas as pd\n",
    "import lib\n",
    "import numpy as np\n",
    "\n",
    "from sklearn.model_selection import train_test_split\n",
    "\n",
    "#Preprocessing tools\n",
    "from sklearn.preprocessing import StandardScaler\n",
    "from sklearn.pipeline import Pipeline\n",
    "\n",
    "#Classifiers\n",
    "from sklearn.linear_model import LinearRegression"
   ]
  },
  {
   "cell_type": "code",
   "execution_count": 12,
   "metadata": {},
   "outputs": [
    {
     "name": "stdout",
     "output_type": "stream",
     "text": [
      "Validation score:  -0.010983096332972897\n"
     ]
    }
   ],
   "source": [
    "#Example of manually loading one dataset in\n",
    "label_names, taget_data = lib.create_target_data()\n",
    "\n",
    "#Here we load in the data\n",
    "fb_data_business = lib.load(\"fb_data/FBCosDist_BusinessIndustry.csv\",\",\")\n",
    "fb_data_business = lib.preprocess(fb_data_business)\n",
    "fb_data_business = lib.df_to_list(fb_data_business)\n",
    "\n",
    "#We create two dictionaries. This is purely done for our own abstraction so we can see the data in relation\n",
    "#to the countries\n",
    "X_list = [fb_data_business]\n",
    "X_dict = lib.create_label_dict(label_names,X_list)\n",
    "Y_dict = lib.create_label_dict(label_names, [taget_data])\n",
    "\n",
    "#We create our X and Y \n",
    "Y = [x[0] for x in Y_dict.values()]\n",
    "X = list(X_dict.values())\n",
    "\n",
    "#Split into train and test\n",
    "X_train, X_test, Y_train, Y_test = train_test_split(\n",
    "X, Y, test_size=0.15, random_state=42)\n",
    "\n",
    "\n",
    "#We fit the model\n",
    "reg = LinearRegression().fit(X_train, Y_train)\n",
    "\n",
    "print(\"Validation score: \",reg.score(X_test, Y_test))"
   ]
  },
  {
   "cell_type": "code",
   "execution_count": 13,
   "metadata": {},
   "outputs": [],
   "source": [
    "X_dict, Y_dict =lib.load_everthing()"
   ]
  },
  {
   "cell_type": "code",
   "execution_count": 14,
   "metadata": {},
   "outputs": [],
   "source": [
    "X = list(X_dict.values())\n",
    "Y = [x[0] for x in Y_dict.values()]"
   ]
  },
  {
   "cell_type": "code",
   "execution_count": 15,
   "metadata": {},
   "outputs": [],
   "source": [
    "pipe = Pipeline(\n",
    "    [('scaler', StandardScaler()), ('Linear regression', LinearRegression())])"
   ]
  },
  {
   "cell_type": "code",
   "execution_count": 16,
   "metadata": {},
   "outputs": [
    {
     "name": "stdout",
     "output_type": "stream",
     "text": [
      "Validation score:  -0.010983096332972897\n"
     ]
    }
   ],
   "source": [
    "#reg = LinearRegression().fit(X_train, Y_train)\n",
    "pipe.fit(X_train, Y_train)\n",
    "print(\"Validation score: \",pipe.score(X_test, Y_test))"
   ]
  },
  {
   "cell_type": "code",
   "execution_count": null,
   "metadata": {},
   "outputs": [],
   "source": []
  }
 ],
 "metadata": {
  "kernelspec": {
   "display_name": "base",
   "language": "python",
   "name": "python3"
  },
  "language_info": {
   "codemirror_mode": {
    "name": "ipython",
    "version": 3
   },
   "file_extension": ".py",
   "mimetype": "text/x-python",
   "name": "python",
   "nbconvert_exporter": "python",
   "pygments_lexer": "ipython3",
   "version": "3.7.4"
  },
  "vscode": {
   "interpreter": {
    "hash": "e0ca4ed97aadf5fd1f7b8523ff7060f1de18dbe1ecf81622558c87c79dce8a13"
   }
  }
 },
 "nbformat": 4,
 "nbformat_minor": 4
}
