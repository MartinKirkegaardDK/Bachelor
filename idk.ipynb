{
 "cells": [
  {
   "cell_type": "code",
   "execution_count": null,
   "metadata": {},
   "outputs": [],
   "source": [
    "#Utilities\n",
    "from utils.utilities import gridsearch\n",
    "import pandas as pd\n",
    "from sklearn.pipeline import Pipeline\n",
    "from utils.utilities import merge_dfs\n",
    "\n",
    "#Preprocessing\n",
    "from sklearn.preprocessing import Normalizer\n",
    "from sklearn.preprocessing import StandardScaler\n",
    "\n",
    "#Models\n",
    "from sklearn.ensemble import RandomForestRegressor\n",
    "from sklearn.linear_model import LinearRegression\n",
    "from sklearn.linear_model import Ridge\n",
    "from sklearn.linear_model import Lasso\n",
    "from sklearn.linear_model import MultiTaskElasticNet\n",
    "from sklearn.svm import SVR\n"
   ]
  },
  {
   "cell_type": "code",
   "execution_count": null,
   "metadata": {},
   "outputs": [],
   "source": [
    "#from utils.load import load_everthing\n",
    "#x,y = load_everthing()"
   ]
  },
  {
   "cell_type": "code",
   "execution_count": null,
   "metadata": {},
   "outputs": [],
   "source": [
    "preprocessing_list = [(\"normalize\",Normalizer()), (\"standardize\",StandardScaler())]\n",
    "\n",
    "model_dict = {\n",
    "    \"SVM\": dict(),\n",
    "    \"Random_forrest\": dict(),\n",
    "    \"Linear_regressor\": dict(),\n",
    "    \"Ridge_regressor\": dict(),\n",
    "    \"Lasso_regressor\": dict()\n",
    "}"
   ]
  },
  {
   "cell_type": "code",
   "execution_count": null,
   "metadata": {},
   "outputs": [],
   "source": [
    "model_dict[\"SVM\"][\"param_grid\"] = {\n",
    "            \"SVM__kernel\": [\"poly\",\"linear\"]\n",
    "        }\n",
    "model_dict[\"SVM\"][\"pipeline\"] = [(\"StandardScaler\",StandardScaler()),('SVM', SVR())]"
   ]
  },
  {
   "cell_type": "code",
   "execution_count": null,
   "metadata": {},
   "outputs": [],
   "source": [
    "model_dict[\"Random_forrest\"][\"param_grid\"] = {\n",
    "    \"Random_forrest__max_depth\": [10,25,100],\n",
    "    \"Random_forrest__n_estimators\": [5,25,100]\n",
    "}\n",
    "model_dict[\"Random_forrest\"][\"pipeline\"] = [(\"StandardScaler\",StandardScaler()),(\"Random_forrest\",RandomForestRegressor())]"
   ]
  },
  {
   "cell_type": "code",
   "execution_count": null,
   "metadata": {},
   "outputs": [],
   "source": [
    "model_dict[\"Linear_regressor\"][\"param_grid\"] = {}\n",
    "model_dict[\"Linear_regressor\"][\"pipeline\"] =   [(\"StandardScaler\",StandardScaler()),(\"Linear_regressor\",LinearRegression())]"
   ]
  },
  {
   "cell_type": "code",
   "execution_count": null,
   "metadata": {},
   "outputs": [],
   "source": [
    "model_dict[\"Ridge_regressor\"][\"param_grid\"] = {\n",
    "    \"Ridge_regressor__alpha\": [1,10,25,100]\n",
    "}\n",
    "model_dict[\"Ridge_regressor\"][\"pipeline\"] =   [(\"StandardScaler\",StandardScaler()),(\"Ridge_regressor\",Ridge())]"
   ]
  },
  {
   "cell_type": "code",
   "execution_count": null,
   "metadata": {},
   "outputs": [],
   "source": [
    "model_dict[\"Lasso_regressor\"][\"param_grid\"] = {\n",
    "    \"Lasso_regressor__alpha\": [1,10,25,100]\n",
    "}\n",
    "model_dict[\"Lasso_regressor\"][\"pipeline\"] =   [(\"StandardScaler\",StandardScaler()),(\"Lasso_regressor\",Lasso())]"
   ]
  },
  {
   "cell_type": "code",
   "execution_count": null,
   "metadata": {},
   "outputs": [],
   "source": [
    "model_dict[\"ElasticNet_regressor\"][\"param_grid\"] = {\n",
    "    \"ElasticNet_regressor__alpha\": [1,10,25,100]\n",
    "}\n",
    "model_dict[\"ElasticNet_regressor\"][\"pipeline\"] =  [(\"StandardScaler\",StandardScaler()),(\"ElasticNet_regressor\",MultiTaskElasticNet())]"
   ]
  },
  {
   "cell_type": "code",
   "execution_count": null,
   "metadata": {},
   "outputs": [],
   "source": [
    "\n",
    "for dict in model_dict.values():\n",
    "    gridsearch(Pipeline(dict[\"pipeline\"]),dict[\"param_grid\"], update_merge_df= False)\n",
    "merge_dfs()"
   ]
  },
  {
   "cell_type": "code",
   "execution_count": null,
   "metadata": {},
   "outputs": [],
   "source": [
    "model_dict[\"ElasticNet_regressor\"][\"param_grid\"] = {\n",
    "    \"ElasticNet_regressor__alpha\": [1,10,25,100]\n",
    "}\n",
    "model_dict[\"ElasticNet_regressor\"][\"pipeline\"] =  [(\"StandardScaler\",StandardScaler()),(\"ElasticNet_regressor\",MultiTaskElasticNet())]"
   ]
  },
  {
   "cell_type": "code",
   "execution_count": null,
   "metadata": {},
   "outputs": [],
   "source": [
    "data = pd.read_csv(\"runs/merged_df.csv\")"
   ]
  },
  {
   "cell_type": "code",
   "execution_count": null,
   "metadata": {},
   "outputs": [],
   "source": [
    "data"
   ]
  },
  {
   "cell_type": "code",
   "execution_count": null,
   "metadata": {},
   "outputs": [],
   "source": [
    "import pandas as pd\n",
    "data = pd.read_csv(\"runs/merged_df.csv\")"
   ]
  },
  {
   "cell_type": "code",
   "execution_count": null,
   "metadata": {},
   "outputs": [],
   "source": [
    "data"
   ]
  },
  {
   "cell_type": "code",
   "execution_count": null,
   "metadata": {},
   "outputs": [],
   "source": [
    "data.sort_values(by=['mean_test_score'], ascending=False)"
   ]
  },
  {
   "cell_type": "code",
   "execution_count": null,
   "metadata": {},
   "outputs": [],
   "source": [
    "from joblib import load\n",
    "clf = load('models/test_14.pkl')\n"
   ]
  },
  {
   "cell_type": "code",
   "execution_count": 1,
   "metadata": {},
   "outputs": [
    {
     "ename": "NameError",
     "evalue": "name 'clf' is not defined",
     "output_type": "error",
     "traceback": [
      "\u001b[0;31m---------------------------------------------------------------------------\u001b[0m",
      "\u001b[0;31mNameError\u001b[0m                                 Traceback (most recent call last)",
      "Cell \u001b[0;32mIn[1], line 1\u001b[0m\n\u001b[0;32m----> 1\u001b[0m clf\u001b[39m.\u001b[39mbest_score_\n",
      "\u001b[0;31mNameError\u001b[0m: name 'clf' is not defined"
     ]
    }
   ],
   "source": [
    "clf.best_score_"
   ]
  },
  {
   "cell_type": "code",
   "execution_count": null,
   "metadata": {},
   "outputs": [],
   "source": []
  }
 ],
 "metadata": {
  "kernelspec": {
   "display_name": "Python 3.9.6 64-bit",
   "language": "python",
   "name": "python3"
  },
  "language_info": {
   "codemirror_mode": {
    "name": "ipython",
    "version": 3
   },
   "file_extension": ".py",
   "mimetype": "text/x-python",
   "name": "python",
   "nbconvert_exporter": "python",
   "pygments_lexer": "ipython3",
   "version": "3.9.6"
  },
  "orig_nbformat": 4,
  "vscode": {
   "interpreter": {
    "hash": "31f2aee4e71d21fbe5cf8b01ff0e069b9275f58929596ceb00d14d90e3e16cd6"
   }
  }
 },
 "nbformat": 4,
 "nbformat_minor": 2
}
