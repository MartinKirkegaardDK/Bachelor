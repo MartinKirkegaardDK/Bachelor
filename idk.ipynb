{
 "cells": [
  {
   "cell_type": "code",
   "execution_count": 1,
   "metadata": {},
   "outputs": [],
   "source": [
    "#Utilities\n",
    "from utils.utilities import gridsearch\n",
    "import pandas as pd\n",
    "from sklearn.pipeline import Pipeline\n",
    "from utils.utilities import merge_dfs\n",
    "\n",
    "#Preprocessing\n",
    "from sklearn.preprocessing import Normalizer\n",
    "from sklearn.preprocessing import StandardScaler\n",
    "from sklearn.preprocessing import PolynomialFeatures\n",
    "\n",
    "#Models\n",
    "from sklearn.ensemble import RandomForestRegressor\n",
    "from sklearn.linear_model import LinearRegression\n",
    "from sklearn.linear_model import Ridge\n",
    "from sklearn.linear_model import LassoCV\n",
    "from sklearn.linear_model import ElasticNet\n",
    "from sklearn.svm import SVR\n"
   ]
  },
  {
   "cell_type": "code",
   "execution_count": 2,
   "metadata": {},
   "outputs": [],
   "source": [
    "model_dict = dict()"
   ]
  },
  {
   "cell_type": "code",
   "execution_count": 3,
   "metadata": {},
   "outputs": [],
   "source": [
    "from utils.load import load_everthing\n",
    "x,y = load_everthing()"
   ]
  },
  {
   "cell_type": "code",
   "execution_count": 4,
   "metadata": {},
   "outputs": [],
   "source": [
    "preprocessing_list = [(\"normalize\",Normalizer()), (\"standardize\",StandardScaler())]\n",
    "\n",
    "model_dict = {\n",
    "    \"Linear_regressor\": dict(),\n",
    "    \"Ridge_regressor\": dict(),\n",
    "    \"Lasso_regressor\": dict(),\n",
    "    \"ElasticNet_regressor\": dict()\n",
    "}"
   ]
  },
  {
   "cell_type": "markdown",
   "metadata": {},
   "source": [
    "model_dict[\"SVM\"][\"param_grid\"] = {\n",
    "            \"SVM__kernel\": [\"poly\",\"linear\"]\n",
    "        }\n",
    "model_dict[\"SVM\"][\"pipeline\"] = [(\"StandardScaler\",StandardScaler()),('SVM', SVR())]"
   ]
  },
  {
   "cell_type": "markdown",
   "metadata": {},
   "source": [
    "model_dict[\"Random_forrest\"][\"param_grid\"] = {\n",
    "    \"Random_forrest__max_depth\": [10,25,100],\n",
    "    \"Random_forrest__n_estimators\": [5,25,100]\n",
    "}\n",
    "model_dict[\"Random_forrest\"][\"pipeline\"] = [(\"StandardScaler\",StandardScaler()),(\"Random_forrest\",RandomForestRegressor())]"
   ]
  },
  {
   "cell_type": "code",
   "execution_count": 5,
   "metadata": {},
   "outputs": [],
   "source": [
    "model_dict[\"Linear_regressor\"][\"param_grid\"] = {}\n",
    "model_dict[\"Linear_regressor\"][\"pipeline\"] =   [(\"StandardScaler\",StandardScaler()),(\"Linear_regressor\",LinearRegression())]"
   ]
  },
  {
   "cell_type": "code",
   "execution_count": 6,
   "metadata": {},
   "outputs": [],
   "source": [
    "model_dict[\"Ridge_regressor\"][\"param_grid\"] = {\n",
    "    \"Ridge_regressor__alpha\": [1,10,25,100]\n",
    "}\n",
    "model_dict[\"Ridge_regressor\"][\"pipeline\"] =   [(\"StandardScaler\",StandardScaler()),(\"Ridge_regressor\",Ridge(max_iter=10000))]"
   ]
  },
  {
   "cell_type": "code",
   "execution_count": 7,
   "metadata": {},
   "outputs": [],
   "source": [
    "model_dict[\"Lasso_regressor\"][\"param_grid\"] = {\n",
    "}\n",
    "model_dict[\"Lasso_regressor\"][\"pipeline\"] =   [(\"StandardScaler\",StandardScaler()),(\"Lasso_regressor\",LassoCV(max_iter= 10000))]"
   ]
  },
  {
   "cell_type": "code",
   "execution_count": 8,
   "metadata": {},
   "outputs": [],
   "source": [
    "model_dict[\"ElasticNet_regressor\"][\"param_grid\"] = {\n",
    "    \"ElasticNet_regressor__alpha\": [1,10,25,100]\n",
    "}\n",
    "model_dict[\"ElasticNet_regressor\"][\"pipeline\"] =  [(\"StandardScaler\",StandardScaler()),(\"ElasticNet_regressor\",ElasticNet(max_iter=10000))]"
   ]
  },
  {
   "cell_type": "code",
   "execution_count": 9,
   "metadata": {},
   "outputs": [],
   "source": [
    "#gridsearch(Pipeline(model_dict[\"ElasticNet_regressor\"][\"pipeline\"]),model_dict[\"ElasticNet_regressor\"][\"param_grid\"] )"
   ]
  },
  {
   "cell_type": "code",
   "execution_count": 10,
   "metadata": {},
   "outputs": [
    {
     "data": {
      "text/plain": [
       "dict_keys(['Linear_regressor', 'Ridge_regressor', 'Lasso_regressor', 'ElasticNet_regressor'])"
      ]
     },
     "execution_count": 10,
     "metadata": {},
     "output_type": "execute_result"
    }
   ],
   "source": [
    "model_dict.keys()"
   ]
  },
  {
   "cell_type": "code",
   "execution_count": 11,
   "metadata": {},
   "outputs": [
    {
     "name": "stdout",
     "output_type": "stream",
     "text": [
      "Loading in data\n",
      "CosDist\n",
      "running gridsearch\n",
      "Best parameter (CV score=0.443):\n",
      "{}\n",
      "---------------------------------------------------------------------------\n",
      "EucDist\n",
      "running gridsearch\n",
      "Best parameter (CV score=0.219):\n",
      "{}\n",
      "---------------------------------------------------------------------------\n",
      "HetDist\n",
      "running gridsearch\n",
      "Best parameter (CV score=0.034):\n",
      "{}\n",
      "---------------------------------------------------------------------------\n",
      "ManDist\n",
      "running gridsearch\n",
      "Best parameter (CV score=0.215):\n",
      "{}\n",
      "---------------------------------------------------------------------------\n",
      "Loading in data\n",
      "CosDist\n",
      "running gridsearch\n",
      "Best parameter (CV score=0.444):\n",
      "{'Ridge_regressor__alpha': 100}\n",
      "---------------------------------------------------------------------------\n",
      "EucDist\n",
      "running gridsearch\n",
      "Best parameter (CV score=0.220):\n",
      "{'Ridge_regressor__alpha': 100}\n",
      "---------------------------------------------------------------------------\n",
      "HetDist\n",
      "running gridsearch\n",
      "Best parameter (CV score=0.035):\n",
      "{'Ridge_regressor__alpha': 25}\n",
      "---------------------------------------------------------------------------\n",
      "ManDist\n",
      "running gridsearch\n",
      "Best parameter (CV score=0.215):\n",
      "{'Ridge_regressor__alpha': 1}\n",
      "---------------------------------------------------------------------------\n",
      "Loading in data\n",
      "CosDist\n",
      "running gridsearch\n",
      "Best parameter (CV score=0.445):\n",
      "{}\n",
      "---------------------------------------------------------------------------\n",
      "EucDist\n",
      "running gridsearch\n",
      "Best parameter (CV score=0.219):\n",
      "{}\n",
      "---------------------------------------------------------------------------\n",
      "HetDist\n",
      "running gridsearch\n",
      "Best parameter (CV score=0.035):\n",
      "{}\n",
      "---------------------------------------------------------------------------\n",
      "ManDist\n",
      "running gridsearch\n",
      "Best parameter (CV score=0.215):\n",
      "{}\n",
      "---------------------------------------------------------------------------\n",
      "Loading in data\n",
      "CosDist\n",
      "running gridsearch\n",
      "Best parameter (CV score=-0.013):\n",
      "{'ElasticNet_regressor__alpha': 1}\n",
      "---------------------------------------------------------------------------\n",
      "EucDist\n",
      "running gridsearch\n",
      "Best parameter (CV score=-0.013):\n",
      "{'ElasticNet_regressor__alpha': 1}\n",
      "---------------------------------------------------------------------------\n",
      "HetDist\n",
      "running gridsearch\n",
      "Best parameter (CV score=-0.013):\n",
      "{'ElasticNet_regressor__alpha': 1}\n",
      "---------------------------------------------------------------------------\n",
      "ManDist\n",
      "running gridsearch\n",
      "Best parameter (CV score=-0.013):\n",
      "{'ElasticNet_regressor__alpha': 1}\n",
      "---------------------------------------------------------------------------\n"
     ]
    }
   ],
   "source": [
    "for key, val in model_dict.items():\n",
    "    gridsearch(Pipeline(val[\"pipeline\"]),val[\"param_grid\"])"
   ]
  },
  {
   "cell_type": "code",
   "execution_count": 4,
   "metadata": {},
   "outputs": [],
   "source": [
    "data = pd.read_csv(\"martin_runs/merged_df.csv\")"
   ]
  },
  {
   "cell_type": "code",
   "execution_count": 5,
   "metadata": {},
   "outputs": [
    {
     "data": {
      "text/html": [
       "<div>\n",
       "<style scoped>\n",
       "    .dataframe tbody tr th:only-of-type {\n",
       "        vertical-align: middle;\n",
       "    }\n",
       "\n",
       "    .dataframe tbody tr th {\n",
       "        vertical-align: top;\n",
       "    }\n",
       "\n",
       "    .dataframe thead th {\n",
       "        text-align: right;\n",
       "    }\n",
       "</style>\n",
       "<table border=\"1\" class=\"dataframe\">\n",
       "  <thead>\n",
       "    <tr style=\"text-align: right;\">\n",
       "      <th></th>\n",
       "      <th>params</th>\n",
       "      <th>mean_test_score</th>\n",
       "      <th>dataset</th>\n",
       "      <th>model_file_name</th>\n",
       "      <th>pipeline</th>\n",
       "      <th>model_name</th>\n",
       "    </tr>\n",
       "  </thead>\n",
       "  <tbody>\n",
       "    <tr>\n",
       "      <th>0</th>\n",
       "      <td>{'ElasticNet_regressor__alpha': 1}</td>\n",
       "      <td>-0.013197</td>\n",
       "      <td>CosDist</td>\n",
       "      <td>models/test_1.pkl</td>\n",
       "      <td>Pipeline(steps=[('StandardScaler', StandardSca...</td>\n",
       "      <td>ElasticNet()</td>\n",
       "    </tr>\n",
       "    <tr>\n",
       "      <th>1</th>\n",
       "      <td>{'ElasticNet_regressor__alpha': 10}</td>\n",
       "      <td>-0.013197</td>\n",
       "      <td>CosDist</td>\n",
       "      <td>models/test_1.pkl</td>\n",
       "      <td>Pipeline(steps=[('StandardScaler', StandardSca...</td>\n",
       "      <td>ElasticNet()</td>\n",
       "    </tr>\n",
       "    <tr>\n",
       "      <th>2</th>\n",
       "      <td>{'ElasticNet_regressor__alpha': 25}</td>\n",
       "      <td>-0.013197</td>\n",
       "      <td>CosDist</td>\n",
       "      <td>models/test_1.pkl</td>\n",
       "      <td>Pipeline(steps=[('StandardScaler', StandardSca...</td>\n",
       "      <td>ElasticNet()</td>\n",
       "    </tr>\n",
       "    <tr>\n",
       "      <th>3</th>\n",
       "      <td>{'ElasticNet_regressor__alpha': 100}</td>\n",
       "      <td>-0.013197</td>\n",
       "      <td>CosDist</td>\n",
       "      <td>models/test_1.pkl</td>\n",
       "      <td>Pipeline(steps=[('StandardScaler', StandardSca...</td>\n",
       "      <td>ElasticNet()</td>\n",
       "    </tr>\n",
       "    <tr>\n",
       "      <th>4</th>\n",
       "      <td>{}</td>\n",
       "      <td>-0.013197</td>\n",
       "      <td>CosDist</td>\n",
       "      <td>models/test_9.pkl</td>\n",
       "      <td>Pipeline(steps=[('poly_features', PolynomialFe...</td>\n",
       "      <td>ElasticNet()</td>\n",
       "    </tr>\n",
       "    <tr>\n",
       "      <th>...</th>\n",
       "      <td>...</td>\n",
       "      <td>...</td>\n",
       "      <td>...</td>\n",
       "      <td>...</td>\n",
       "      <td>...</td>\n",
       "      <td>...</td>\n",
       "    </tr>\n",
       "    <tr>\n",
       "      <th>117</th>\n",
       "      <td>{'ElasticNet_regressor__alpha': 25}</td>\n",
       "      <td>-0.013197</td>\n",
       "      <td>ManDist</td>\n",
       "      <td>models/test_62.pkl</td>\n",
       "      <td>Pipeline(steps=[('StandardScaler', StandardSca...</td>\n",
       "      <td>ElasticNet(max_iter=10000)</td>\n",
       "    </tr>\n",
       "    <tr>\n",
       "      <th>118</th>\n",
       "      <td>{'ElasticNet_regressor__alpha': 100}</td>\n",
       "      <td>-0.013197</td>\n",
       "      <td>ManDist</td>\n",
       "      <td>models/test_62.pkl</td>\n",
       "      <td>Pipeline(steps=[('StandardScaler', StandardSca...</td>\n",
       "      <td>ElasticNet(max_iter=10000)</td>\n",
       "    </tr>\n",
       "    <tr>\n",
       "      <th>119</th>\n",
       "      <td>{}</td>\n",
       "      <td>-0.013197</td>\n",
       "      <td>EucDist</td>\n",
       "      <td>models/test_6.pkl</td>\n",
       "      <td>Pipeline(steps=[('poly_features', PolynomialFe...</td>\n",
       "      <td>ElasticNet()</td>\n",
       "    </tr>\n",
       "    <tr>\n",
       "      <th>120</th>\n",
       "      <td>{}</td>\n",
       "      <td>-0.013197</td>\n",
       "      <td>HetDist</td>\n",
       "      <td>models/test_7.pkl</td>\n",
       "      <td>Pipeline(steps=[('poly_features', PolynomialFe...</td>\n",
       "      <td>ElasticNet()</td>\n",
       "    </tr>\n",
       "    <tr>\n",
       "      <th>121</th>\n",
       "      <td>{}</td>\n",
       "      <td>-0.013197</td>\n",
       "      <td>ManDist</td>\n",
       "      <td>models/test_8.pkl</td>\n",
       "      <td>Pipeline(steps=[('poly_features', PolynomialFe...</td>\n",
       "      <td>ElasticNet()</td>\n",
       "    </tr>\n",
       "  </tbody>\n",
       "</table>\n",
       "<p>122 rows × 6 columns</p>\n",
       "</div>"
      ],
      "text/plain": [
       "                                   params  mean_test_score  dataset  \\\n",
       "0      {'ElasticNet_regressor__alpha': 1}        -0.013197  CosDist   \n",
       "1     {'ElasticNet_regressor__alpha': 10}        -0.013197  CosDist   \n",
       "2     {'ElasticNet_regressor__alpha': 25}        -0.013197  CosDist   \n",
       "3    {'ElasticNet_regressor__alpha': 100}        -0.013197  CosDist   \n",
       "4                                      {}        -0.013197  CosDist   \n",
       "..                                    ...              ...      ...   \n",
       "117   {'ElasticNet_regressor__alpha': 25}        -0.013197  ManDist   \n",
       "118  {'ElasticNet_regressor__alpha': 100}        -0.013197  ManDist   \n",
       "119                                    {}        -0.013197  EucDist   \n",
       "120                                    {}        -0.013197  HetDist   \n",
       "121                                    {}        -0.013197  ManDist   \n",
       "\n",
       "        model_file_name                                           pipeline  \\\n",
       "0     models/test_1.pkl  Pipeline(steps=[('StandardScaler', StandardSca...   \n",
       "1     models/test_1.pkl  Pipeline(steps=[('StandardScaler', StandardSca...   \n",
       "2     models/test_1.pkl  Pipeline(steps=[('StandardScaler', StandardSca...   \n",
       "3     models/test_1.pkl  Pipeline(steps=[('StandardScaler', StandardSca...   \n",
       "4     models/test_9.pkl  Pipeline(steps=[('poly_features', PolynomialFe...   \n",
       "..                  ...                                                ...   \n",
       "117  models/test_62.pkl  Pipeline(steps=[('StandardScaler', StandardSca...   \n",
       "118  models/test_62.pkl  Pipeline(steps=[('StandardScaler', StandardSca...   \n",
       "119   models/test_6.pkl  Pipeline(steps=[('poly_features', PolynomialFe...   \n",
       "120   models/test_7.pkl  Pipeline(steps=[('poly_features', PolynomialFe...   \n",
       "121   models/test_8.pkl  Pipeline(steps=[('poly_features', PolynomialFe...   \n",
       "\n",
       "                     model_name  \n",
       "0                  ElasticNet()  \n",
       "1                  ElasticNet()  \n",
       "2                  ElasticNet()  \n",
       "3                  ElasticNet()  \n",
       "4                  ElasticNet()  \n",
       "..                          ...  \n",
       "117  ElasticNet(max_iter=10000)  \n",
       "118  ElasticNet(max_iter=10000)  \n",
       "119                ElasticNet()  \n",
       "120                ElasticNet()  \n",
       "121                ElasticNet()  \n",
       "\n",
       "[122 rows x 6 columns]"
      ]
     },
     "execution_count": 5,
     "metadata": {},
     "output_type": "execute_result"
    }
   ],
   "source": [
    "data"
   ]
  },
  {
   "cell_type": "code",
   "execution_count": 6,
   "metadata": {},
   "outputs": [],
   "source": [
    "data.sort_values(\"mean_test_score\",ascending = False,inplace = True)"
   ]
  },
  {
   "cell_type": "code",
   "execution_count": 7,
   "metadata": {},
   "outputs": [
    {
     "data": {
      "text/html": [
       "<div>\n",
       "<style scoped>\n",
       "    .dataframe tbody tr th:only-of-type {\n",
       "        vertical-align: middle;\n",
       "    }\n",
       "\n",
       "    .dataframe tbody tr th {\n",
       "        vertical-align: top;\n",
       "    }\n",
       "\n",
       "    .dataframe thead th {\n",
       "        text-align: right;\n",
       "    }\n",
       "</style>\n",
       "<table border=\"1\" class=\"dataframe\">\n",
       "  <thead>\n",
       "    <tr style=\"text-align: right;\">\n",
       "      <th></th>\n",
       "      <th>params</th>\n",
       "      <th>mean_test_score</th>\n",
       "      <th>dataset</th>\n",
       "      <th>model_file_name</th>\n",
       "      <th>pipeline</th>\n",
       "      <th>model_name</th>\n",
       "    </tr>\n",
       "  </thead>\n",
       "  <tbody>\n",
       "    <tr>\n",
       "      <th>32</th>\n",
       "      <td>{}</td>\n",
       "      <td>0.512892</td>\n",
       "      <td>CosDist</td>\n",
       "      <td>models/test_29.pkl</td>\n",
       "      <td>Pipeline(steps=[('poly_features', PolynomialFe...</td>\n",
       "      <td>LassoCV()</td>\n",
       "    </tr>\n",
       "    <tr>\n",
       "      <th>24</th>\n",
       "      <td>{}</td>\n",
       "      <td>0.504012</td>\n",
       "      <td>CosDist</td>\n",
       "      <td>models/test_25.pkl</td>\n",
       "      <td>Pipeline(steps=[('poly_features', PolynomialFe...</td>\n",
       "      <td>LassoCV()</td>\n",
       "    </tr>\n",
       "    <tr>\n",
       "      <th>20</th>\n",
       "      <td>{}</td>\n",
       "      <td>0.492929</td>\n",
       "      <td>CosDist</td>\n",
       "      <td>models/test_21.pkl</td>\n",
       "      <td>Pipeline(steps=[('poly_features', PolynomialFe...</td>\n",
       "      <td>LassoCV()</td>\n",
       "    </tr>\n",
       "    <tr>\n",
       "      <th>98</th>\n",
       "      <td>{}</td>\n",
       "      <td>0.444996</td>\n",
       "      <td>CosDist</td>\n",
       "      <td>models/test_55.pkl</td>\n",
       "      <td>Pipeline(steps=[('StandardScaler', StandardSca...</td>\n",
       "      <td>LassoCV(max_iter=10000)</td>\n",
       "    </tr>\n",
       "    <tr>\n",
       "      <th>65</th>\n",
       "      <td>{'Ridge_regressor__alpha': 100}</td>\n",
       "      <td>0.444341</td>\n",
       "      <td>CosDist</td>\n",
       "      <td>models/test_43.pkl</td>\n",
       "      <td>Pipeline(steps=[('StandardScaler', StandardSca...</td>\n",
       "      <td>Ridge(max_iter=10000)</td>\n",
       "    </tr>\n",
       "    <tr>\n",
       "      <th>41</th>\n",
       "      <td>{'Ridge_regressor__alpha': 100}</td>\n",
       "      <td>0.444341</td>\n",
       "      <td>CosDist</td>\n",
       "      <td>models/test_35.pkl</td>\n",
       "      <td>Pipeline(steps=[('StandardScaler', StandardSca...</td>\n",
       "      <td>Ridge(max_iter=10000)</td>\n",
       "    </tr>\n",
       "    <tr>\n",
       "      <th>85</th>\n",
       "      <td>{'Ridge_regressor__alpha': 100}</td>\n",
       "      <td>0.444341</td>\n",
       "      <td>CosDist</td>\n",
       "      <td>models/test_51.pkl</td>\n",
       "      <td>Pipeline(steps=[('StandardScaler', StandardSca...</td>\n",
       "      <td>Ridge(max_iter=10000)</td>\n",
       "    </tr>\n",
       "    <tr>\n",
       "      <th>84</th>\n",
       "      <td>{'Ridge_regressor__alpha': 25}</td>\n",
       "      <td>0.443718</td>\n",
       "      <td>CosDist</td>\n",
       "      <td>models/test_51.pkl</td>\n",
       "      <td>Pipeline(steps=[('StandardScaler', StandardSca...</td>\n",
       "      <td>Ridge(max_iter=10000)</td>\n",
       "    </tr>\n",
       "    <tr>\n",
       "      <th>64</th>\n",
       "      <td>{'Ridge_regressor__alpha': 25}</td>\n",
       "      <td>0.443718</td>\n",
       "      <td>CosDist</td>\n",
       "      <td>models/test_43.pkl</td>\n",
       "      <td>Pipeline(steps=[('StandardScaler', StandardSca...</td>\n",
       "      <td>Ridge(max_iter=10000)</td>\n",
       "    </tr>\n",
       "    <tr>\n",
       "      <th>40</th>\n",
       "      <td>{'Ridge_regressor__alpha': 25}</td>\n",
       "      <td>0.443718</td>\n",
       "      <td>CosDist</td>\n",
       "      <td>models/test_35.pkl</td>\n",
       "      <td>Pipeline(steps=[('StandardScaler', StandardSca...</td>\n",
       "      <td>Ridge(max_iter=10000)</td>\n",
       "    </tr>\n",
       "    <tr>\n",
       "      <th>63</th>\n",
       "      <td>{'Ridge_regressor__alpha': 10}</td>\n",
       "      <td>0.443565</td>\n",
       "      <td>CosDist</td>\n",
       "      <td>models/test_43.pkl</td>\n",
       "      <td>Pipeline(steps=[('StandardScaler', StandardSca...</td>\n",
       "      <td>Ridge(max_iter=10000)</td>\n",
       "    </tr>\n",
       "    <tr>\n",
       "      <th>83</th>\n",
       "      <td>{'Ridge_regressor__alpha': 10}</td>\n",
       "      <td>0.443565</td>\n",
       "      <td>CosDist</td>\n",
       "      <td>models/test_51.pkl</td>\n",
       "      <td>Pipeline(steps=[('StandardScaler', StandardSca...</td>\n",
       "      <td>Ridge(max_iter=10000)</td>\n",
       "    </tr>\n",
       "    <tr>\n",
       "      <th>39</th>\n",
       "      <td>{'Ridge_regressor__alpha': 10}</td>\n",
       "      <td>0.443565</td>\n",
       "      <td>CosDist</td>\n",
       "      <td>models/test_35.pkl</td>\n",
       "      <td>Pipeline(steps=[('StandardScaler', StandardSca...</td>\n",
       "      <td>Ridge(max_iter=10000)</td>\n",
       "    </tr>\n",
       "    <tr>\n",
       "      <th>38</th>\n",
       "      <td>{'Ridge_regressor__alpha': 1}</td>\n",
       "      <td>0.443467</td>\n",
       "      <td>CosDist</td>\n",
       "      <td>models/test_35.pkl</td>\n",
       "      <td>Pipeline(steps=[('StandardScaler', StandardSca...</td>\n",
       "      <td>Ridge(max_iter=10000)</td>\n",
       "    </tr>\n",
       "    <tr>\n",
       "      <th>82</th>\n",
       "      <td>{'Ridge_regressor__alpha': 1}</td>\n",
       "      <td>0.443467</td>\n",
       "      <td>CosDist</td>\n",
       "      <td>models/test_51.pkl</td>\n",
       "      <td>Pipeline(steps=[('StandardScaler', StandardSca...</td>\n",
       "      <td>Ridge(max_iter=10000)</td>\n",
       "    </tr>\n",
       "    <tr>\n",
       "      <th>62</th>\n",
       "      <td>{'Ridge_regressor__alpha': 1}</td>\n",
       "      <td>0.443467</td>\n",
       "      <td>CosDist</td>\n",
       "      <td>models/test_43.pkl</td>\n",
       "      <td>Pipeline(steps=[('StandardScaler', StandardSca...</td>\n",
       "      <td>Ridge(max_iter=10000)</td>\n",
       "    </tr>\n",
       "    <tr>\n",
       "      <th>34</th>\n",
       "      <td>{}</td>\n",
       "      <td>0.443456</td>\n",
       "      <td>CosDist</td>\n",
       "      <td>models/test_31.pkl</td>\n",
       "      <td>Pipeline(steps=[('StandardScaler', StandardSca...</td>\n",
       "      <td>LinearRegression()</td>\n",
       "    </tr>\n",
       "    <tr>\n",
       "      <th>78</th>\n",
       "      <td>{}</td>\n",
       "      <td>0.443456</td>\n",
       "      <td>CosDist</td>\n",
       "      <td>models/test_47.pkl</td>\n",
       "      <td>Pipeline(steps=[('StandardScaler', StandardSca...</td>\n",
       "      <td>LinearRegression()</td>\n",
       "    </tr>\n",
       "    <tr>\n",
       "      <th>58</th>\n",
       "      <td>{}</td>\n",
       "      <td>0.443456</td>\n",
       "      <td>CosDist</td>\n",
       "      <td>models/test_39.pkl</td>\n",
       "      <td>Pipeline(steps=[('StandardScaler', StandardSca...</td>\n",
       "      <td>LinearRegression()</td>\n",
       "    </tr>\n",
       "    <tr>\n",
       "      <th>33</th>\n",
       "      <td>{}</td>\n",
       "      <td>0.304662</td>\n",
       "      <td>EucDist</td>\n",
       "      <td>models/test_30.pkl</td>\n",
       "      <td>Pipeline(steps=[('poly_features', PolynomialFe...</td>\n",
       "      <td>LassoCV()</td>\n",
       "    </tr>\n",
       "    <tr>\n",
       "      <th>25</th>\n",
       "      <td>{}</td>\n",
       "      <td>0.298515</td>\n",
       "      <td>EucDist</td>\n",
       "      <td>models/test_26.pkl</td>\n",
       "      <td>Pipeline(steps=[('poly_features', PolynomialFe...</td>\n",
       "      <td>LassoCV()</td>\n",
       "    </tr>\n",
       "    <tr>\n",
       "      <th>21</th>\n",
       "      <td>{}</td>\n",
       "      <td>0.284250</td>\n",
       "      <td>EucDist</td>\n",
       "      <td>models/test_22.pkl</td>\n",
       "      <td>Pipeline(steps=[('poly_features', PolynomialFe...</td>\n",
       "      <td>LassoCV()</td>\n",
       "    </tr>\n",
       "    <tr>\n",
       "      <th>27</th>\n",
       "      <td>{}</td>\n",
       "      <td>0.280689</td>\n",
       "      <td>ManDist</td>\n",
       "      <td>models/test_28.pkl</td>\n",
       "      <td>Pipeline(steps=[('poly_features', PolynomialFe...</td>\n",
       "      <td>LassoCV()</td>\n",
       "    </tr>\n",
       "    <tr>\n",
       "      <th>23</th>\n",
       "      <td>{}</td>\n",
       "      <td>0.270345</td>\n",
       "      <td>ManDist</td>\n",
       "      <td>models/test_24.pkl</td>\n",
       "      <td>Pipeline(steps=[('poly_features', PolynomialFe...</td>\n",
       "      <td>LassoCV()</td>\n",
       "    </tr>\n",
       "    <tr>\n",
       "      <th>45</th>\n",
       "      <td>{'Ridge_regressor__alpha': 100}</td>\n",
       "      <td>0.219847</td>\n",
       "      <td>EucDist</td>\n",
       "      <td>models/test_36.pkl</td>\n",
       "      <td>Pipeline(steps=[('StandardScaler', StandardSca...</td>\n",
       "      <td>Ridge(max_iter=10000)</td>\n",
       "    </tr>\n",
       "    <tr>\n",
       "      <th>89</th>\n",
       "      <td>{'Ridge_regressor__alpha': 100}</td>\n",
       "      <td>0.219847</td>\n",
       "      <td>EucDist</td>\n",
       "      <td>models/test_52.pkl</td>\n",
       "      <td>Pipeline(steps=[('StandardScaler', StandardSca...</td>\n",
       "      <td>Ridge(max_iter=10000)</td>\n",
       "    </tr>\n",
       "    <tr>\n",
       "      <th>69</th>\n",
       "      <td>{'Ridge_regressor__alpha': 100}</td>\n",
       "      <td>0.219847</td>\n",
       "      <td>EucDist</td>\n",
       "      <td>models/test_44.pkl</td>\n",
       "      <td>Pipeline(steps=[('StandardScaler', StandardSca...</td>\n",
       "      <td>Ridge(max_iter=10000)</td>\n",
       "    </tr>\n",
       "    <tr>\n",
       "      <th>99</th>\n",
       "      <td>{}</td>\n",
       "      <td>0.219489</td>\n",
       "      <td>EucDist</td>\n",
       "      <td>models/test_56.pkl</td>\n",
       "      <td>Pipeline(steps=[('StandardScaler', StandardSca...</td>\n",
       "      <td>LassoCV(max_iter=10000)</td>\n",
       "    </tr>\n",
       "    <tr>\n",
       "      <th>44</th>\n",
       "      <td>{'Ridge_regressor__alpha': 25}</td>\n",
       "      <td>0.219470</td>\n",
       "      <td>EucDist</td>\n",
       "      <td>models/test_36.pkl</td>\n",
       "      <td>Pipeline(steps=[('StandardScaler', StandardSca...</td>\n",
       "      <td>Ridge(max_iter=10000)</td>\n",
       "    </tr>\n",
       "    <tr>\n",
       "      <th>88</th>\n",
       "      <td>{'Ridge_regressor__alpha': 25}</td>\n",
       "      <td>0.219470</td>\n",
       "      <td>EucDist</td>\n",
       "      <td>models/test_52.pkl</td>\n",
       "      <td>Pipeline(steps=[('StandardScaler', StandardSca...</td>\n",
       "      <td>Ridge(max_iter=10000)</td>\n",
       "    </tr>\n",
       "  </tbody>\n",
       "</table>\n",
       "</div>"
      ],
      "text/plain": [
       "                             params  mean_test_score  dataset  \\\n",
       "32                               {}         0.512892  CosDist   \n",
       "24                               {}         0.504012  CosDist   \n",
       "20                               {}         0.492929  CosDist   \n",
       "98                               {}         0.444996  CosDist   \n",
       "65  {'Ridge_regressor__alpha': 100}         0.444341  CosDist   \n",
       "41  {'Ridge_regressor__alpha': 100}         0.444341  CosDist   \n",
       "85  {'Ridge_regressor__alpha': 100}         0.444341  CosDist   \n",
       "84   {'Ridge_regressor__alpha': 25}         0.443718  CosDist   \n",
       "64   {'Ridge_regressor__alpha': 25}         0.443718  CosDist   \n",
       "40   {'Ridge_regressor__alpha': 25}         0.443718  CosDist   \n",
       "63   {'Ridge_regressor__alpha': 10}         0.443565  CosDist   \n",
       "83   {'Ridge_regressor__alpha': 10}         0.443565  CosDist   \n",
       "39   {'Ridge_regressor__alpha': 10}         0.443565  CosDist   \n",
       "38    {'Ridge_regressor__alpha': 1}         0.443467  CosDist   \n",
       "82    {'Ridge_regressor__alpha': 1}         0.443467  CosDist   \n",
       "62    {'Ridge_regressor__alpha': 1}         0.443467  CosDist   \n",
       "34                               {}         0.443456  CosDist   \n",
       "78                               {}         0.443456  CosDist   \n",
       "58                               {}         0.443456  CosDist   \n",
       "33                               {}         0.304662  EucDist   \n",
       "25                               {}         0.298515  EucDist   \n",
       "21                               {}         0.284250  EucDist   \n",
       "27                               {}         0.280689  ManDist   \n",
       "23                               {}         0.270345  ManDist   \n",
       "45  {'Ridge_regressor__alpha': 100}         0.219847  EucDist   \n",
       "89  {'Ridge_regressor__alpha': 100}         0.219847  EucDist   \n",
       "69  {'Ridge_regressor__alpha': 100}         0.219847  EucDist   \n",
       "99                               {}         0.219489  EucDist   \n",
       "44   {'Ridge_regressor__alpha': 25}         0.219470  EucDist   \n",
       "88   {'Ridge_regressor__alpha': 25}         0.219470  EucDist   \n",
       "\n",
       "       model_file_name                                           pipeline  \\\n",
       "32  models/test_29.pkl  Pipeline(steps=[('poly_features', PolynomialFe...   \n",
       "24  models/test_25.pkl  Pipeline(steps=[('poly_features', PolynomialFe...   \n",
       "20  models/test_21.pkl  Pipeline(steps=[('poly_features', PolynomialFe...   \n",
       "98  models/test_55.pkl  Pipeline(steps=[('StandardScaler', StandardSca...   \n",
       "65  models/test_43.pkl  Pipeline(steps=[('StandardScaler', StandardSca...   \n",
       "41  models/test_35.pkl  Pipeline(steps=[('StandardScaler', StandardSca...   \n",
       "85  models/test_51.pkl  Pipeline(steps=[('StandardScaler', StandardSca...   \n",
       "84  models/test_51.pkl  Pipeline(steps=[('StandardScaler', StandardSca...   \n",
       "64  models/test_43.pkl  Pipeline(steps=[('StandardScaler', StandardSca...   \n",
       "40  models/test_35.pkl  Pipeline(steps=[('StandardScaler', StandardSca...   \n",
       "63  models/test_43.pkl  Pipeline(steps=[('StandardScaler', StandardSca...   \n",
       "83  models/test_51.pkl  Pipeline(steps=[('StandardScaler', StandardSca...   \n",
       "39  models/test_35.pkl  Pipeline(steps=[('StandardScaler', StandardSca...   \n",
       "38  models/test_35.pkl  Pipeline(steps=[('StandardScaler', StandardSca...   \n",
       "82  models/test_51.pkl  Pipeline(steps=[('StandardScaler', StandardSca...   \n",
       "62  models/test_43.pkl  Pipeline(steps=[('StandardScaler', StandardSca...   \n",
       "34  models/test_31.pkl  Pipeline(steps=[('StandardScaler', StandardSca...   \n",
       "78  models/test_47.pkl  Pipeline(steps=[('StandardScaler', StandardSca...   \n",
       "58  models/test_39.pkl  Pipeline(steps=[('StandardScaler', StandardSca...   \n",
       "33  models/test_30.pkl  Pipeline(steps=[('poly_features', PolynomialFe...   \n",
       "25  models/test_26.pkl  Pipeline(steps=[('poly_features', PolynomialFe...   \n",
       "21  models/test_22.pkl  Pipeline(steps=[('poly_features', PolynomialFe...   \n",
       "27  models/test_28.pkl  Pipeline(steps=[('poly_features', PolynomialFe...   \n",
       "23  models/test_24.pkl  Pipeline(steps=[('poly_features', PolynomialFe...   \n",
       "45  models/test_36.pkl  Pipeline(steps=[('StandardScaler', StandardSca...   \n",
       "89  models/test_52.pkl  Pipeline(steps=[('StandardScaler', StandardSca...   \n",
       "69  models/test_44.pkl  Pipeline(steps=[('StandardScaler', StandardSca...   \n",
       "99  models/test_56.pkl  Pipeline(steps=[('StandardScaler', StandardSca...   \n",
       "44  models/test_36.pkl  Pipeline(steps=[('StandardScaler', StandardSca...   \n",
       "88  models/test_52.pkl  Pipeline(steps=[('StandardScaler', StandardSca...   \n",
       "\n",
       "                 model_name  \n",
       "32                LassoCV()  \n",
       "24                LassoCV()  \n",
       "20                LassoCV()  \n",
       "98  LassoCV(max_iter=10000)  \n",
       "65    Ridge(max_iter=10000)  \n",
       "41    Ridge(max_iter=10000)  \n",
       "85    Ridge(max_iter=10000)  \n",
       "84    Ridge(max_iter=10000)  \n",
       "64    Ridge(max_iter=10000)  \n",
       "40    Ridge(max_iter=10000)  \n",
       "63    Ridge(max_iter=10000)  \n",
       "83    Ridge(max_iter=10000)  \n",
       "39    Ridge(max_iter=10000)  \n",
       "38    Ridge(max_iter=10000)  \n",
       "82    Ridge(max_iter=10000)  \n",
       "62    Ridge(max_iter=10000)  \n",
       "34       LinearRegression()  \n",
       "78       LinearRegression()  \n",
       "58       LinearRegression()  \n",
       "33                LassoCV()  \n",
       "25                LassoCV()  \n",
       "21                LassoCV()  \n",
       "27                LassoCV()  \n",
       "23                LassoCV()  \n",
       "45    Ridge(max_iter=10000)  \n",
       "89    Ridge(max_iter=10000)  \n",
       "69    Ridge(max_iter=10000)  \n",
       "99  LassoCV(max_iter=10000)  \n",
       "44    Ridge(max_iter=10000)  \n",
       "88    Ridge(max_iter=10000)  "
      ]
     },
     "execution_count": 7,
     "metadata": {},
     "output_type": "execute_result"
    }
   ],
   "source": [
    "data.head(30)"
   ]
  },
  {
   "cell_type": "code",
   "execution_count": 36,
   "metadata": {},
   "outputs": [],
   "source": [
    "from joblib import load\n",
    "clf = load('martin_models/test_55.pkl') "
   ]
  },
  {
   "cell_type": "code",
   "execution_count": 37,
   "metadata": {},
   "outputs": [
    {
     "data": {
      "text/plain": [
       "<bound method Pipeline.get_params of Pipeline(steps=[('StandardScaler', StandardScaler()),\n",
       "                ('Lasso_regressor', LassoCV(max_iter=10000))])>"
      ]
     },
     "execution_count": 37,
     "metadata": {},
     "output_type": "execute_result"
    }
   ],
   "source": [
    "clf.best_estimator_.get_params"
   ]
  },
  {
   "cell_type": "code",
   "execution_count": 38,
   "metadata": {},
   "outputs": [],
   "source": [
    "x_l = list(x[\"CosDist\"].values())"
   ]
  },
  {
   "cell_type": "code",
   "execution_count": 39,
   "metadata": {},
   "outputs": [],
   "source": [
    "y_l = list(y.values())"
   ]
  },
  {
   "cell_type": "code",
   "execution_count": null,
   "metadata": {},
   "outputs": [],
   "source": []
  },
  {
   "cell_type": "code",
   "execution_count": 40,
   "metadata": {},
   "outputs": [],
   "source": [
    "index = list(range(len(x_l)))"
   ]
  },
  {
   "cell_type": "code",
   "execution_count": 41,
   "metadata": {},
   "outputs": [],
   "source": [
    "import random\n",
    "n = 50\n",
    "index = random.sample(index, n)"
   ]
  },
  {
   "cell_type": "code",
   "execution_count": 42,
   "metadata": {},
   "outputs": [],
   "source": [
    "x_final = [x_l[x] for x in index]"
   ]
  },
  {
   "cell_type": "code",
   "execution_count": 43,
   "metadata": {},
   "outputs": [],
   "source": [
    "import numpy as np\n",
    "\n",
    "labels = np.log10([y_l[x] for x in index])"
   ]
  },
  {
   "cell_type": "code",
   "execution_count": null,
   "metadata": {},
   "outputs": [],
   "source": []
  },
  {
   "cell_type": "code",
   "execution_count": 44,
   "metadata": {},
   "outputs": [],
   "source": [
    "pred = clf.best_estimator_.predict(x_final)"
   ]
  },
  {
   "cell_type": "code",
   "execution_count": 45,
   "metadata": {},
   "outputs": [
    {
     "data": {
      "text/plain": [
       "array([-0.08788916, -0.13963118,  0.        ,  0.00102115,  0.15127062,\n",
       "        0.02337887, -0.09463005, -0.        ,  0.        , -0.21267679,\n",
       "        0.0012033 , -0.07150561, -0.02997362, -0.2529934 ,  0.07879646])"
      ]
     },
     "execution_count": 45,
     "metadata": {},
     "output_type": "execute_result"
    }
   ],
   "source": [
    "clf.best_estimator_.steps[-1][-1].coef_"
   ]
  },
  {
   "cell_type": "code",
   "execution_count": 56,
   "metadata": {},
   "outputs": [
    {
     "data": {
      "text/plain": [
       "(0.2615069597140032,\n",
       " 0.1901694814497119,\n",
       " 0.0450528785589983,\n",
       " 0.1043355342508008,\n",
       " 0.2532704182565032,\n",
       " 0.2117787788042623,\n",
       " 0.1171956581247551,\n",
       " 0.0749375345615424,\n",
       " 0.2231011068513522,\n",
       " 0.7111557549873084,\n",
       " 0.1541632481430253,\n",
       " 0.2541594688754314,\n",
       " 0.0769898399442279,\n",
       " 0.5326979412716893,\n",
       " 0.1619754658344592)"
      ]
     },
     "execution_count": 56,
     "metadata": {},
     "output_type": "execute_result"
    }
   ],
   "source": [
    "list(x[\"CosDist\"].values())[0]"
   ]
  },
  {
   "cell_type": "code",
   "execution_count": 46,
   "metadata": {},
   "outputs": [
    {
     "name": "stdout",
     "output_type": "stream",
     "text": [
      "-0.08788916169889494\n",
      "-0.13963117513642304\n",
      "0.0\n",
      "0.0010211469196613574\n",
      "0.1512706246850354\n",
      "0.023378866862806384\n",
      "-0.0946300496004666\n",
      "-0.0\n",
      "0.0\n",
      "-0.21267679375531826\n",
      "0.0012033000776747512\n",
      "-0.07150560519726841\n",
      "-0.02997361900881354\n",
      "-0.252993396682485\n",
      "0.07879645746349753\n"
     ]
    },
    {
     "data": {
      "text/plain": [
       "[None,\n",
       " None,\n",
       " None,\n",
       " None,\n",
       " None,\n",
       " None,\n",
       " None,\n",
       " None,\n",
       " None,\n",
       " None,\n",
       " None,\n",
       " None,\n",
       " None,\n",
       " None,\n",
       " None]"
      ]
     },
     "execution_count": 46,
     "metadata": {},
     "output_type": "execute_result"
    }
   ],
   "source": [
    "[print(x) for x in clf.best_estimator_.steps[-1][-1].coef_]"
   ]
  },
  {
   "cell_type": "code",
   "execution_count": 47,
   "metadata": {},
   "outputs": [],
   "source": [
    "labels = [item for sublist in labels for item in sublist]"
   ]
  },
  {
   "cell_type": "code",
   "execution_count": 48,
   "metadata": {},
   "outputs": [],
   "source": [
    "d = dict()\n",
    "d[\"pred\"] = list(pred)\n",
    "d[\"labels\"] = labels\n",
    "df = pd.DataFrame(d)"
   ]
  },
  {
   "cell_type": "code",
   "execution_count": 49,
   "metadata": {},
   "outputs": [],
   "source": [
    "df.sort_values(\"labels\",inplace = True)"
   ]
  },
  {
   "cell_type": "code",
   "execution_count": 50,
   "metadata": {},
   "outputs": [],
   "source": [
    "import matplotlib.pyplot as plt"
   ]
  },
  {
   "cell_type": "code",
   "execution_count": 51,
   "metadata": {},
   "outputs": [
    {
     "data": {
      "image/png": "[encoded data removed]",
      "text/plain": [
       "<Figure size 1000x1000 with 1 Axes>"
      ]
     },
     "metadata": {},
     "output_type": "display_data"
    }
   ],
   "source": [
    "plt.figure(figsize=(10,10))\n",
    "plt.scatter(labels, pred, c='crimson')\n",
    "plt.yscale('log')\n",
    "plt.xscale('log')\n",
    "\n",
    "p1 = max(max(pred), max(labels))\n",
    "p2 = min(min(pred), min(labels))\n",
    "plt.plot([p1, p2], [p1, p2], 'b-')\n",
    "plt.xlabel('True Values', fontsize=15)\n",
    "plt.ylabel('Predictions', fontsize=15)\n",
    "plt.axis('equal')\n",
    "plt.show()"
   ]
  },
  {
   "cell_type": "code",
   "execution_count": 52,
   "metadata": {},
   "outputs": [
    {
     "data": {
      "image/png": "[encoded data removed]",
      "text/plain": [
       "<Figure size 640x480 with 1 Axes>"
      ]
     },
     "metadata": {},
     "output_type": "display_data"
    }
   ],
   "source": [
    "\n",
    "t = list(range(n))\n",
    "plt.scatter(t, df[\"pred\"], label = \"pred\")\n",
    "plt.scatter(t,df[\"labels\"], label = \"labels\")\n",
    "plt.xlabel(\"Index sorted by label\")\n",
    "plt.ylabel(\"Values\")\n",
    "plt.title(\"Vores awesome plot som gpt-4 har hjulpet med :)\")\n",
    "plt.legend()\n",
    "plt.show()"
   ]
  },
  {
   "cell_type": "code",
   "execution_count": null,
   "metadata": {},
   "outputs": [],
   "source": [
    "#sorter listerne uafhængigt og plot dem. Altså så de er sorteret efter ranken"
   ]
  },
  {
   "cell_type": "code",
   "execution_count": null,
   "metadata": {},
   "outputs": [],
   "source": []
  },
  {
   "cell_type": "code",
   "execution_count": null,
   "metadata": {},
   "outputs": [],
   "source": []
  },
  {
   "cell_type": "code",
   "execution_count": 1,
   "metadata": {},
   "outputs": [],
   "source": [
    "from utils.load import create_target_data\n",
    "from utils.load import preprocess\n",
    "from utils.load import df_to_list\n",
    "from utils.load import create_label_dict\n",
    "from utils.load import load\n",
    "import os\n"
   ]
  },
  {
   "cell_type": "code",
   "execution_count": 2,
   "metadata": {},
   "outputs": [],
   "source": [
    "def sort_by_country(file_name):\n",
    "    if \"Europe\" in file_name:\n",
    "        return \"Europe\"\n",
    "    elif \"Africa\" in file_name:\n",
    "        return \"Africa\"\n",
    "    elif \"Asia\" in file_name:\n",
    "        return \"Asia\"\n",
    "    elif \"Oceania\" in file_name:\n",
    "        return \"Oceania\"\n",
    "    elif \"Americas\" in file_name:\n",
    "        return \"Americas\""
   ]
  },
  {
   "cell_type": "code",
   "execution_count": 3,
   "metadata": {},
   "outputs": [],
   "source": [
    "from collections import defaultdict"
   ]
  },
  {
   "cell_type": "code",
   "execution_count": 4,
   "metadata": {},
   "outputs": [],
   "source": [
    "\n",
    "def load_everthing_test():\n",
    "    \"\"\"Loads in everything so the data is ready to be used for training and transforming\"\"\"\n",
    "\n",
    "    X_dict = dict()\n",
    "    Y_dict = dict()\n",
    "    d = dict()\n",
    "    d[\"CosDist\"] = defaultdict(list)\n",
    "    d[\"EucDist\"] = defaultdict(list)\n",
    "    d[\"HetDist\"] = defaultdict(list)\n",
    "    d[\"ManDist\"] = defaultdict(list)\n",
    "    \n",
    "    label_names, taget_data = create_target_data() \n",
    "\n",
    "    for file in os.listdir(\"data/fb_data_continents\"):\n",
    "        #We only look for csv files, not the other files\n",
    "        if file.endswith(\".csv\"):\n",
    "            #idk what these files are, so we skip them for now\n",
    "            if file in [\"FBCosDist.csv\",\"FBEucDist.csv\"]:\n",
    "                continue\n",
    "            \n",
    "            df = load(\"data/fb_data_continents/\" + file,\",\")\n",
    "            df = preprocess(df)\n",
    "            df = df_to_list(df)\n",
    "            if \"CosDist\" in file:\n",
    "                print(file)\n",
    "                print(sort_by_country(file))\n",
    "                d[\"CosDist\"][sort_by_country(file)].append(df)\n",
    "            elif \"EucDist\" in file:\n",
    "                d[\"EucDist\"][sort_by_country(file)].append(df)\n",
    "            elif \"HetDist\" in file:\n",
    "                d[\"HetDist\"][sort_by_country(file)].append(df)\n",
    "            elif \"ManDist\" in file:\n",
    "                d[\"ManDist\"][sort_by_country(file)].append(df)\n",
    "    return d, \"hej\"\n",
    "    for key,val in d.items():\n",
    "        X_dict[key] = create_label_dict(label_names,val)\n",
    "    \n",
    "    Y_dict = create_label_dict(label_names, [taget_data])\n",
    "\n",
    "    return X_dict, Y_dict"
   ]
  },
  {
   "cell_type": "code",
   "execution_count": 5,
   "metadata": {},
   "outputs": [
    {
     "name": "stdout",
     "output_type": "stream",
     "text": [
      "(55, 227)\n"
     ]
    },
    {
     "name": "stderr",
     "output_type": "stream",
     "text": [
      "c:\\Users\\tjupp\\Documents\\GitHub\\Bachelor\\utils\\load.py:112: UserWarning: The shape of the dataframe is likely to be wrong. Expected df.shape[1] == 3 or 226, but got (55, 227)\n",
      "  warnings.warn(f\"The shape of the dataframe is likely to be wrong. Expected df.shape[1] == 3 or 226, but got {pandas_dataframe.shape}\")\n"
     ]
    },
    {
     "ename": "UnboundLocalError",
     "evalue": "cannot access local variable 'final_df' where it is not associated with a value",
     "output_type": "error",
     "traceback": [
      "\u001b[1;31m---------------------------------------------------------------------------\u001b[0m",
      "\u001b[1;31mUnboundLocalError\u001b[0m                         Traceback (most recent call last)",
      "Cell \u001b[1;32mIn[5], line 1\u001b[0m\n\u001b[1;32m----> 1\u001b[0m x, y \u001b[39m=\u001b[39m load_everthing()\n",
      "Cell \u001b[1;32mIn[4], line 22\u001b[0m, in \u001b[0;36mload_everthing\u001b[1;34m()\u001b[0m\n\u001b[0;32m     19\u001b[0m     \u001b[39mcontinue\u001b[39;00m\n\u001b[0;32m     21\u001b[0m df \u001b[39m=\u001b[39m load(\u001b[39m\"\u001b[39m\u001b[39mdata/fb_data_continents/\u001b[39m\u001b[39m\"\u001b[39m \u001b[39m+\u001b[39m file,\u001b[39m\"\u001b[39m\u001b[39m,\u001b[39m\u001b[39m\"\u001b[39m)\n\u001b[1;32m---> 22\u001b[0m df \u001b[39m=\u001b[39m preprocess(df)\n\u001b[0;32m     23\u001b[0m df \u001b[39m=\u001b[39m df_to_list(df)\n\u001b[0;32m     24\u001b[0m \u001b[39mif\u001b[39;00m \u001b[39m\"\u001b[39m\u001b[39mCosDist\u001b[39m\u001b[39m\"\u001b[39m \u001b[39min\u001b[39;00m file:\n",
      "File \u001b[1;32mc:\\Users\\tjupp\\Documents\\GitHub\\Bachelor\\utils\\load.py:113\u001b[0m, in \u001b[0;36mpreprocess\u001b[1;34m(pandas_dataframe)\u001b[0m\n\u001b[0;32m    111\u001b[0m     \u001b[39mprint\u001b[39m(pandas_dataframe\u001b[39m.\u001b[39mshape)\n\u001b[0;32m    112\u001b[0m     warnings\u001b[39m.\u001b[39mwarn(\u001b[39mf\u001b[39m\u001b[39m\"\u001b[39m\u001b[39mThe shape of the dataframe is likely to be wrong. Expected df.shape[1] == 3 or 226, but got \u001b[39m\u001b[39m{\u001b[39;00mpandas_dataframe\u001b[39m.\u001b[39mshape\u001b[39m}\u001b[39;00m\u001b[39m\"\u001b[39m)\n\u001b[1;32m--> 113\u001b[0m \u001b[39mreturn\u001b[39;00m final_df\n",
      "\u001b[1;31mUnboundLocalError\u001b[0m: cannot access local variable 'final_df' where it is not associated with a value"
     ]
    }
   ],
   "source": [
    "x, y = load_everthing()"
   ]
  },
  {
   "cell_type": "code",
   "execution_count": null,
   "metadata": {},
   "outputs": [],
   "source": []
  }
 ],
 "metadata": {
  "kernelspec": {
   "display_name": "Python 3",
   "language": "python",
   "name": "python3"
  },
  "language_info": {
   "codemirror_mode": {
    "name": "ipython",
    "version": 3
   },
   "file_extension": ".py",
   "mimetype": "text/x-python",
   "name": "python",
   "nbconvert_exporter": "python",
   "pygments_lexer": "ipython3",
   "version": "3.11.2"
  },
  "orig_nbformat": 4,
  "vscode": {
   "interpreter": {
    "hash": "f2dcdf95de76cb88ebf43fe25c1d570a3840764eca36349b9e9338552ffc3308"
   }
  }
 },
 "nbformat": 4,
 "nbformat_minor": 2
}
