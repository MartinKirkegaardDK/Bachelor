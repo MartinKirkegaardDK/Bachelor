{
 "cells": [
  {
   "cell_type": "code",
   "execution_count": 1,
   "metadata": {},
   "outputs": [],
   "source": [
    "from utils.utilities import merge_dfs"
   ]
  },
  {
   "cell_type": "code",
   "execution_count": 2,
   "metadata": {},
   "outputs": [],
   "source": [
    "merge_dfs()"
   ]
  },
  {
   "cell_type": "code",
   "execution_count": 3,
   "metadata": {},
   "outputs": [],
   "source": [
    "import pandas as pd"
   ]
  },
  {
   "cell_type": "code",
   "execution_count": 4,
   "metadata": {},
   "outputs": [],
   "source": [
    "data = pd.read_csv(\"runs/rf/rf_files/merged_df.csv\")"
   ]
  },
  {
   "cell_type": "code",
   "execution_count": 6,
   "metadata": {},
   "outputs": [
    {
     "data": {
      "text/html": [
       "<div>\n",
       "<style scoped>\n",
       "    .dataframe tbody tr th:only-of-type {\n",
       "        vertical-align: middle;\n",
       "    }\n",
       "\n",
       "    .dataframe tbody tr th {\n",
       "        vertical-align: top;\n",
       "    }\n",
       "\n",
       "    .dataframe thead th {\n",
       "        text-align: right;\n",
       "    }\n",
       "</style>\n",
       "<table border=\"1\" class=\"dataframe\">\n",
       "  <thead>\n",
       "    <tr style=\"text-align: right;\">\n",
       "      <th></th>\n",
       "      <th>params</th>\n",
       "      <th>mean_test_score</th>\n",
       "      <th>dataset</th>\n",
       "      <th>model_file_name</th>\n",
       "      <th>pipeline</th>\n",
       "      <th>region</th>\n",
       "      <th>with_distance</th>\n",
       "      <th>model_name</th>\n",
       "    </tr>\n",
       "  </thead>\n",
       "  <tbody>\n",
       "    <tr>\n",
       "      <th>0</th>\n",
       "      <td>{}</td>\n",
       "      <td>0.646271</td>\n",
       "      <td>CosDist</td>\n",
       "      <td>martin_models/test_1.pkl</td>\n",
       "      <td>Pipeline(steps=[('StandardScaler', StandardSca...</td>\n",
       "      <td>world</td>\n",
       "      <td>True</td>\n",
       "      <td>RandomForestRegressor()</td>\n",
       "    </tr>\n",
       "    <tr>\n",
       "      <th>6</th>\n",
       "      <td>{}</td>\n",
       "      <td>0.578625</td>\n",
       "      <td>HetDist</td>\n",
       "      <td>martin_models/test_3.pkl</td>\n",
       "      <td>Pipeline(steps=[('StandardScaler', StandardSca...</td>\n",
       "      <td>world</td>\n",
       "      <td>True</td>\n",
       "      <td>RandomForestRegressor()</td>\n",
       "    </tr>\n",
       "    <tr>\n",
       "      <th>3</th>\n",
       "      <td>{}</td>\n",
       "      <td>0.560017</td>\n",
       "      <td>ManDist</td>\n",
       "      <td>martin_models/test_4.pkl</td>\n",
       "      <td>Pipeline(steps=[('StandardScaler', StandardSca...</td>\n",
       "      <td>world</td>\n",
       "      <td>True</td>\n",
       "      <td>RandomForestRegressor()</td>\n",
       "    </tr>\n",
       "    <tr>\n",
       "      <th>5</th>\n",
       "      <td>{}</td>\n",
       "      <td>0.550347</td>\n",
       "      <td>EucDist</td>\n",
       "      <td>martin_models/test_2.pkl</td>\n",
       "      <td>Pipeline(steps=[('StandardScaler', StandardSca...</td>\n",
       "      <td>world</td>\n",
       "      <td>True</td>\n",
       "      <td>RandomForestRegressor()</td>\n",
       "    </tr>\n",
       "    <tr>\n",
       "      <th>7</th>\n",
       "      <td>{}</td>\n",
       "      <td>0.536600</td>\n",
       "      <td>CosDist</td>\n",
       "      <td>martin_models/test_5.pkl</td>\n",
       "      <td>Pipeline(steps=[('StandardScaler', StandardSca...</td>\n",
       "      <td>world</td>\n",
       "      <td>False</td>\n",
       "      <td>RandomForestRegressor()</td>\n",
       "    </tr>\n",
       "    <tr>\n",
       "      <th>4</th>\n",
       "      <td>{}</td>\n",
       "      <td>0.397784</td>\n",
       "      <td>HetDist</td>\n",
       "      <td>martin_models/test_7.pkl</td>\n",
       "      <td>Pipeline(steps=[('StandardScaler', StandardSca...</td>\n",
       "      <td>world</td>\n",
       "      <td>False</td>\n",
       "      <td>RandomForestRegressor()</td>\n",
       "    </tr>\n",
       "    <tr>\n",
       "      <th>2</th>\n",
       "      <td>{}</td>\n",
       "      <td>0.369036</td>\n",
       "      <td>EucDist</td>\n",
       "      <td>martin_models/test_6.pkl</td>\n",
       "      <td>Pipeline(steps=[('StandardScaler', StandardSca...</td>\n",
       "      <td>world</td>\n",
       "      <td>False</td>\n",
       "      <td>RandomForestRegressor()</td>\n",
       "    </tr>\n",
       "    <tr>\n",
       "      <th>1</th>\n",
       "      <td>{}</td>\n",
       "      <td>0.357055</td>\n",
       "      <td>ManDist</td>\n",
       "      <td>martin_models/test_8.pkl</td>\n",
       "      <td>Pipeline(steps=[('StandardScaler', StandardSca...</td>\n",
       "      <td>world</td>\n",
       "      <td>False</td>\n",
       "      <td>RandomForestRegressor()</td>\n",
       "    </tr>\n",
       "  </tbody>\n",
       "</table>\n",
       "</div>"
      ],
      "text/plain": [
       "  params  mean_test_score  dataset           model_file_name  \\\n",
       "0     {}         0.646271  CosDist  martin_models/test_1.pkl   \n",
       "6     {}         0.578625  HetDist  martin_models/test_3.pkl   \n",
       "3     {}         0.560017  ManDist  martin_models/test_4.pkl   \n",
       "5     {}         0.550347  EucDist  martin_models/test_2.pkl   \n",
       "7     {}         0.536600  CosDist  martin_models/test_5.pkl   \n",
       "4     {}         0.397784  HetDist  martin_models/test_7.pkl   \n",
       "2     {}         0.369036  EucDist  martin_models/test_6.pkl   \n",
       "1     {}         0.357055  ManDist  martin_models/test_8.pkl   \n",
       "\n",
       "                                            pipeline region  with_distance  \\\n",
       "0  Pipeline(steps=[('StandardScaler', StandardSca...  world           True   \n",
       "6  Pipeline(steps=[('StandardScaler', StandardSca...  world           True   \n",
       "3  Pipeline(steps=[('StandardScaler', StandardSca...  world           True   \n",
       "5  Pipeline(steps=[('StandardScaler', StandardSca...  world           True   \n",
       "7  Pipeline(steps=[('StandardScaler', StandardSca...  world          False   \n",
       "4  Pipeline(steps=[('StandardScaler', StandardSca...  world          False   \n",
       "2  Pipeline(steps=[('StandardScaler', StandardSca...  world          False   \n",
       "1  Pipeline(steps=[('StandardScaler', StandardSca...  world          False   \n",
       "\n",
       "                model_name  \n",
       "0  RandomForestRegressor()  \n",
       "6  RandomForestRegressor()  \n",
       "3  RandomForestRegressor()  \n",
       "5  RandomForestRegressor()  \n",
       "7  RandomForestRegressor()  \n",
       "4  RandomForestRegressor()  \n",
       "2  RandomForestRegressor()  \n",
       "1  RandomForestRegressor()  "
      ]
     },
     "execution_count": 6,
     "metadata": {},
     "output_type": "execute_result"
    }
   ],
   "source": [
    "data.sort_values(\"mean_test_score\",ascending= False)"
   ]
  },
  {
   "cell_type": "code",
   "execution_count": null,
   "metadata": {},
   "outputs": [],
   "source": []
  }
 ],
 "metadata": {
  "kernelspec": {
   "display_name": "Python 3",
   "language": "python",
   "name": "python3"
  },
  "language_info": {
   "codemirror_mode": {
    "name": "ipython",
    "version": 3
   },
   "file_extension": ".py",
   "mimetype": "text/x-python",
   "name": "python",
   "nbconvert_exporter": "python",
   "pygments_lexer": "ipython3",
   "version": "3.10.6"
  },
  "orig_nbformat": 4,
  "vscode": {
   "interpreter": {
    "hash": "916dbcbb3f70747c44a77c7bcd40155683ae19c65e1c03b4aa3499c5328201f1"
   }
  }
 },
 "nbformat": 4,
 "nbformat_minor": 2
}
