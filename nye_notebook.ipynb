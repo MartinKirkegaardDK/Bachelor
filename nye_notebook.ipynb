{
 "cells": [
  {
   "cell_type": "code",
   "execution_count": 3,
   "metadata": {},
   "outputs": [],
   "source": [
    "import pandas as pd\n",
    "import os"
   ]
  },
  {
   "cell_type": "code",
   "execution_count": 4,
   "metadata": {},
   "outputs": [
    {
     "name": "stdout",
     "output_type": "stream",
     "text": [
      "FBEucDist_Uncategorized.csv\n",
      "FBManDist_HobbiesActivities.csv\n",
      "FBCosDist_TravelPlacesEvents.csv\n",
      "FBCosDist_BusinessIndustry.csv\n",
      "FBHetDist_Technology.csv\n",
      "FBManDist_NewsEntertainment.csv\n",
      "FBCosDist_Uncategorized.csv\n",
      "FBManDist_FamilyRelationships.csv\n",
      "FBManDist_Uncategorized.csv\n",
      "FBHetDist_SportsOutdoors.csv\n",
      "FBManDist_People.csv\n",
      "FBEucDist_FamilyRelationships.csv\n",
      "FBHetDist_FamilyRelationships.csv\n",
      "FBEucDist_People.csv\n",
      "FBCosDist_LifestyleCulture.csv\n",
      "FBCosDist_Education.csv\n",
      "FBManDist_FoodDrink.csv\n",
      "FBEucDist_TravelPlacesEvents.csv\n",
      "FBHetDist_FoodDrink.csv\n",
      "FBManDist_LifestyleCulture.csv\n",
      "FBCosDist_NonLocalBus.csv\n",
      "FBCosDist_SportsOutdoors.csv\n",
      "FBManDist_FitnessWellness.csv\n",
      "FBManDist_SportsOutdoors.csv\n",
      "FBManDist_ShoppingFashion.csv\n",
      "FBEucDist_BusinessIndustry.csv\n",
      "FBCosDist_FamilyRelationships.csv\n",
      "FBHetDist_NonLocalBus.csv\n",
      "FBManDist_BusinessIndustry.csv\n",
      "FBEucDist_HobbiesActivities.csv\n",
      "FBCosDist_NewsEntertainment.csv\n",
      "FBEucDist_ShoppingFashion.csv\n",
      "FBHetDist_FitnessWellness.csv\n",
      "FBManDist_Education.csv\n",
      "FBEucDist_Technology.csv\n",
      "FBHetDist_LifestyleCulture.csv\n",
      "FBCosDist_FoodDrink.csv\n",
      "FBHetDist_NewsEntertainment.csv\n",
      "FBManDist_NonLocalBus.csv\n",
      "FBEucDist_FoodDrink.csv\n",
      "FBHetDist_ShoppingFashion.csv\n",
      "FBEucDist_FitnessWellness.csv\n",
      "FBManDist_Technology.csv\n",
      "FBHetDist_People.csv\n",
      "FBCosDist_Technology.csv\n",
      "FBEucDist_NewsEntertainment.csv\n",
      "FBHetDist_HobbiesActivities.csv\n",
      "FBManDist_TravelPlacesEvents.csv\n",
      "FBCosDist_FitnessWellness.csv\n",
      "FBCosDist_HobbiesActivities.csv\n",
      "FBHetDist_Uncategorized.csv\n",
      "FBEucDist_NonLocalBus.csv\n",
      "FBCosDist_People.csv\n",
      "FBEucDist_SportsOutdoors.csv\n",
      "FBHetDist_TravelPlacesEvents.csv\n",
      "FBHetDist_BusinessIndustry.csv\n",
      "FBEucDist_LifestyleCulture.csv\n",
      "FBEucDist_Education.csv\n",
      "FBCosDist_ShoppingFashion.csv\n",
      "FBHetDist_Education.csv\n"
     ]
    }
   ],
   "source": [
    "for file in (os.listdir(\"data/fb_data\")):\n",
    "    #We only look for csv files, not the other files\n",
    "    if file.endswith(\".csv\"):\n",
    "        #idk what these files are, so we skip them for now\n",
    "        if file in [\"FBCosDist.csv\",\"FBEucDist.csv\"]:\n",
    "            continue\n",
    "        print(file)"
   ]
  },
  {
   "cell_type": "code",
   "execution_count": 10,
   "metadata": {},
   "outputs": [],
   "source": [
    "from utils.load import load"
   ]
  },
  {
   "cell_type": "code",
   "execution_count": 11,
   "metadata": {},
   "outputs": [],
   "source": [
    "data = load(\"data/friendship_data/countries-countries-fb-social-connectedness-index-october-2021.tsv\",\"\\t\")"
   ]
  },
  {
   "cell_type": "code",
   "execution_count": 15,
   "metadata": {},
   "outputs": [
    {
     "data": {
      "text/plain": [
       "34225"
      ]
     },
     "execution_count": 15,
     "metadata": {},
     "output_type": "execute_result"
    }
   ],
   "source": [
    "data.shape[0]"
   ]
  },
  {
   "cell_type": "code",
   "execution_count": 25,
   "metadata": {},
   "outputs": [],
   "source": [
    "subset = data[data[\"scaled_sci\"] < 1000]"
   ]
  },
  {
   "cell_type": "code",
   "execution_count": null,
   "metadata": {},
   "outputs": [],
   "source": []
  }
 ],
 "metadata": {
  "kernelspec": {
   "display_name": "Python 3",
   "language": "python",
   "name": "python3"
  },
  "language_info": {
   "codemirror_mode": {
    "name": "ipython",
    "version": 3
   },
   "file_extension": ".py",
   "mimetype": "text/x-python",
   "name": "python",
   "nbconvert_exporter": "python",
   "pygments_lexer": "ipython3",
   "version": "3.10.6"
  },
  "orig_nbformat": 4
 },
 "nbformat": 4,
 "nbformat_minor": 2
}
