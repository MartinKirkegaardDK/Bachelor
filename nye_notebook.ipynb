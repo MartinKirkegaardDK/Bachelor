{
 "cells": [
  {
   "cell_type": "code",
   "execution_count": 1,
   "metadata": {},
   "outputs": [],
   "source": [
    "\n",
    "from utils.utilities import gridsearch_all_distance_metrics\n",
    "from sklearn.pipeline import Pipeline\n",
    "from sklearn.preprocessing import StandardScaler\n",
    "from sklearn.linear_model import LassoCV\n"
   ]
  },
  {
   "cell_type": "code",
   "execution_count": 2,
   "metadata": {},
   "outputs": [],
   "source": [
    "from sklearn.model_selection import GridSearchCV"
   ]
  },
  {
   "cell_type": "code",
   "execution_count": 3,
   "metadata": {},
   "outputs": [],
   "source": [
    "from utils.load import load_all_distance_metrics\n",
    "\n",
    "import numpy as np\n",
    "def bootstrap_all_distance_metrics(pipeline, param_grid,n = 100, with_dist = False, all_data = False):\n",
    "    \n",
    "    print(\"number of sample runs:\", n)\n",
    "    print(\"loading in data\")\n",
    "    result = []\n",
    "\n",
    "    x,y = load_all_distance_metrics(test_size= 0.2, val_size=0.0, with_distance= with_dist)\n",
    "    x = x[\"train\"]\n",
    "    y = y[\"train\"]\n",
    "    X = list(x.values())\n",
    "    Y = [x[0] for x in y.values()]\n",
    "    Y = np.log10(Y)\n",
    "        \n",
    "    print(\"running bootstrap\")\n",
    "    for i in range(n):\n",
    "\n",
    "        if i%10 == 0:\n",
    "            print(i)\n",
    "\n",
    "        #print(dataset)\n",
    "        dataset = \"all_distance_metrics\"\n",
    "        print(\"running gridsearch\")\n",
    "        search = GridSearchCV(pipeline, param_grid, n_jobs=2,scoring= \"r2\")\n",
    "\n",
    "        search.fit(X, Y)\n",
    "        result.append(search)\n",
    "    return result\n",
    "        "
   ]
  },
  {
   "cell_type": "code",
   "execution_count": 1,
   "metadata": {},
   "outputs": [],
   "source": [
    "import warnings\n",
    "warnings.filterwarnings(\"ignore\")"
   ]
  },
  {
   "cell_type": "code",
   "execution_count": 2,
   "metadata": {},
   "outputs": [
    {
     "name": "stdout",
     "output_type": "stream",
     "text": [
      "running lasso_without_dist_all_distance\n",
      "running gridsearch\n",
      "Best parameter (CV score=0.526):\n",
      "{'PCA__n_components': 36}\n",
      "running lasso_with_dist_all_distance\n",
      "running gridsearch\n",
      "Best parameter (CV score=0.597):\n",
      "{'PCA__n_components': 38}\n",
      "running rf_without_dist_all_distance\n",
      "running gridsearch\n",
      "Best parameter (CV score=0.570):\n",
      "{'PCA__n_components': 32}\n",
      "running rf_with_dist_all_distance\n",
      "running gridsearch\n",
      "Best parameter (CV score=0.633):\n",
      "{'PCA__n_components': 34}\n"
     ]
    }
   ],
   "source": [
    "from src.drivers.train_models.all_distance_metrics import run\n",
    "run()"
   ]
  },
  {
   "cell_type": "code",
   "execution_count": null,
   "metadata": {},
   "outputs": [],
   "source": []
  },
  {
   "cell_type": "code",
   "execution_count": null,
   "metadata": {},
   "outputs": [],
   "source": []
  },
  {
   "cell_type": "code",
   "execution_count": 2,
   "metadata": {},
   "outputs": [
    {
     "name": "stdout",
     "output_type": "stream",
     "text": [
      "running gridsearch\n",
      "Best parameter (CV score=0.544):\n",
      "{}\n"
     ]
    }
   ],
   "source": [
    "pipe =  Pipeline([(\"StandardScaler\",StandardScaler()),(\"Lasso_regressor\",LassoCV(max_iter= 100000, tol= 0.001))])\n",
    "param_grid = {}\n",
    "obj = gridsearch_all_distance_metrics(pipe, param_grid, with_distance= False)"
   ]
  },
  {
   "cell_type": "code",
   "execution_count": null,
   "metadata": {},
   "outputs": [],
   "source": []
  }
 ],
 "metadata": {
  "kernelspec": {
   "display_name": "Python 3",
   "language": "python",
   "name": "python3"
  },
  "language_info": {
   "codemirror_mode": {
    "name": "ipython",
    "version": 3
   },
   "file_extension": ".py",
   "mimetype": "text/x-python",
   "name": "python",
   "nbconvert_exporter": "python",
   "pygments_lexer": "ipython3",
   "version": "3.10.6"
  },
  "orig_nbformat": 4,
  "vscode": {
   "interpreter": {
    "hash": "916dbcbb3f70747c44a77c7bcd40155683ae19c65e1c03b4aa3499c5328201f1"
   }
  }
 },
 "nbformat": 4,
 "nbformat_minor": 2
}
