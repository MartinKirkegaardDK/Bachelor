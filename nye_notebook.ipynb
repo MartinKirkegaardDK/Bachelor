{
 "cells": [
  {
   "cell_type": "code",
   "execution_count": 1,
   "metadata": {},
   "outputs": [],
   "source": [
    "from sklearn.model_selection import GridSearchCV\n",
    "from sklearn.pipeline import Pipeline\n",
    "from utils.utilities import result_object\n",
    "from utils.load import load_everthing, load_everthing_with_distance, load_all_distance_metrics\n",
    "import numpy as np\n",
    "from utils.ml_models import lasso, lasso_pca, rf, rf_pca\n",
    "from utils.utilities import bootstrap_all_distance_metrics, bootstrap, gen_feature_dict_lasso, gen_feature_dict_rf\n",
    "from utils.plots import plot_confidence_interval\n",
    "from utils.plots import plot_r2\n",
    "import warnings\n",
    "warnings.filterwarnings('ignore')"
   ]
  },
  {
   "cell_type": "code",
   "execution_count": 2,
   "metadata": {},
   "outputs": [],
   "source": [
    "def loader(with_distance, all_dist_metrics):\n",
    "    \"\"\"This function simply loads our data\"\"\"\n",
    "    test_size = 0.2\n",
    "    val_size = 0\n",
    "    if all_dist_metrics:\n",
    "        x,y = load_all_distance_metrics(test_size = test_size, val_size = val_size, with_distance = with_distance)\n",
    "    else:\n",
    "        if with_distance:\n",
    "            x,y = load_everthing_with_distance(test_size = test_size, val_size = val_size)\n",
    "        else:\n",
    "            x,y = load_everthing(test_size = test_size, val_size = val_size)\n",
    "    return x,y\n",
    "def process(x,y):\n",
    "    \"\"\"This function converts the data into the train and test data. It also performs log transormation of labels(Y)\"\"\"\n",
    "    if \"CosDist\" in x[\"train\"]:\n",
    "        x_train = dict()\n",
    "        x_test = dict()\n",
    "        for distance_metric, val in x[\"train\"].items():\n",
    "            x_train_temp = list(val.values())\n",
    "            x_train[distance_metric] = x_train_temp\n",
    "        for distance_metric, val in x[\"test\"].items():\n",
    "            x_test_temp = list(val.values())\n",
    "            x_test[distance_metric] = x_test_temp\n",
    "    else:\n",
    "        x_train = x[\"train\"]\n",
    "        x_test = x[\"test\"]\n",
    "        x_train = list(x_train.values())\n",
    "        x_test = list(x_test.values())\n",
    "    y_train = y[\"train\"]\n",
    "    y_test = y[\"test\"]\n",
    "    y_train = [np.log10(x[0]) for x in list(y_train.values())]\n",
    "    y_test = [np.log10(x[0]) for x in list(y_test.values())]\n",
    "    return x_train, y_train, x_test, y_test\n",
    "def gridsearch(x_train,y_train, pipeline, param_grid,distance_metric,with_distance):\n",
    "    print(\"running gridsearch\")\n",
    "    search = GridSearchCV(pipeline, param_grid, n_jobs=2,scoring= \"r2\")\n",
    "\n",
    "    search.fit(x_train, y_train)\n",
    "    print(\"Best parameter (CV score=%0.3f):\" % search.best_score_)\n",
    "    print(search.best_params_)\n",
    "    obj = result_object(search, distance_metric,x_train,y_train,\"world\",with_distance, save_model= False)\n",
    "    return obj\n",
    "\n",
    "def run_confidence_interval(pipeline, param_grid,distance_metric, with_distance, all_distance_metrics, title):\n",
    "    n = 5\n",
    "    if \"Lasso_regressor\" == pipeline.steps[-1][0]:\n",
    "        feature_dict_function = gen_feature_dict_lasso\n",
    "    elif \"rf\" == pipeline.steps[-1][0]:\n",
    "        feature_dict_function = gen_feature_dict_rf\n",
    "    \n",
    "    if all_distance_metrics:\n",
    "        s = bootstrap_all_distance_metrics(pipeline= pipeline, param_grid= param_grid,with_dist= with_distance, n = n)\n",
    "        feature_dict = feature_dict_function(s, with_dist= with_distance, all_distance= all_distance_metrics)\n",
    "        feature_dict = dict( sorted(feature_dict.items(), key=lambda x: x[0].lower()) )\n",
    "    else:\n",
    "        s = bootstrap(pipeline= pipeline, param_grid= param_grid,distance_metric=distance_metric,with_dist= with_distance, n = n)\n",
    "        feature_dict = feature_dict_function(s, with_dist= with_distance)\n",
    "    plot_confidence_interval(feature_dict,title)\n",
    "\n",
    "def naming(with_distance, with_all_dist_metrics, pipeline, distance_metrics = None):\n",
    "    \n",
    "    name = \"\"\n",
    "\n",
    "    if \"Lasso_regressor\" == pipeline.steps[-1][0]:\n",
    "        name+= \"LASSO \"\n",
    "    elif \"rf\" == pipeline.steps[-1][0]:\n",
    "        name+= \"RF \"\n",
    "    \n",
    "    if with_distance:\n",
    "        name+= \" with distance\"\n",
    "    if with_all_dist_metrics:\n",
    "        name+= \" all distance metrics\"\n",
    "\n",
    "    if \"PCA\" == pipeline.steps[-2][0]:\n",
    "        name+= \" with PCA\" \n",
    "    \n",
    "    if distance_metrics != None:\n",
    "        name+= \" \" +distance_metrics\n",
    "    return name\n",
    "def do_everything(with_distance, with_all_dist_metrics, model):\n",
    "    pipeline, param_grid = model()\n",
    "    #print(pipeline.steps)\n",
    "    x,y = loader(with_distance, with_all_dist_metrics)\n",
    "    x_train, y_train, x_test, y_test = process(x,y)\n",
    "    #If we use all the dist metrics, then we dont loop and simply run gridsearch and so on\n",
    "\n",
    "    if with_all_dist_metrics:\n",
    "        name = naming(with_distance, with_all_dist_metrics, pipeline)\n",
    "\n",
    "        distance_metric = \"all\"\n",
    "        obj = gridsearch(x_train, y_train, pipeline, param_grid, distance_metric, with_distance)\n",
    "        search = obj.gridsearch\n",
    "        if \"PCA\" not in name:\n",
    "            run_confidence_interval(pipeline, param_grid, distance_metric, with_distance,with_all_dist_metrics,f\"Coefficient estimate {name}\")\n",
    "        pred = search.best_estimator_.predict(x_test)\n",
    "        plot_r2(pred, y_test,f\"Predicted vs labels {name}\")\n",
    "    else:\n",
    "        for x_train_elm, x_test_elm in zip(x_train.items(), x_test.items()):\n",
    "\n",
    "            distance_metric = x_train_elm[0]\n",
    "            name = naming(with_distance, with_all_dist_metrics, pipeline,distance_metric)\n",
    "\n",
    "\n",
    "            x_train_elm = x_train_elm[1]\n",
    "            x_test_elm = x_test_elm[1]\n",
    "            obj = gridsearch(x_train_elm, y_train, pipeline, param_grid, distance_metric, with_distance)\n",
    "            search = obj.gridsearch\n",
    "            run_confidence_interval(pipeline, param_grid, distance_metric, with_distance,with_all_dist_metrics,f\"Coefficient estimate {name}\")\n",
    "            pred = search.best_estimator_.predict(x_test_elm)\n",
    "            plot_r2(pred, y_test,f\"Predicted vs labels {name}\")"
   ]
  },
  {
   "cell_type": "code",
   "execution_count": 3,
   "metadata": {},
   "outputs": [
    {
     "name": "stdout",
     "output_type": "stream",
     "text": [
      "running gridsearch\n",
      "Best parameter (CV score=0.545):\n",
      "{}\n",
      "number of sample runs: 5\n",
      "loading in data\n",
      "running bootstrap\n",
      "0\n",
      "Predicted vs labels LASSO  with distance CosDist\n",
      "running gridsearch\n",
      "Best parameter (CV score=0.400):\n",
      "{}\n",
      "number of sample runs: 5\n",
      "loading in data\n",
      "running bootstrap\n",
      "0\n",
      "Predicted vs labels LASSO  with distance EucDist\n",
      "running gridsearch\n",
      "Best parameter (CV score=0.297):\n",
      "{}\n",
      "number of sample runs: 5\n",
      "loading in data\n",
      "running bootstrap\n",
      "0\n",
      "Predicted vs labels LASSO  with distance HetDist\n",
      "running gridsearch\n",
      "Best parameter (CV score=0.406):\n",
      "{}\n",
      "number of sample runs: 5\n",
      "loading in data\n",
      "running bootstrap\n",
      "0\n",
      "Predicted vs labels LASSO  with distance ManDist\n",
      "running gridsearch\n",
      "Best parameter (CV score=0.450):\n",
      "{}\n",
      "number of sample runs: 5\n",
      "loading in data\n",
      "running bootstrap\n",
      "0\n",
      "Predicted vs labels LASSO  CosDist\n",
      "running gridsearch\n",
      "Best parameter (CV score=0.224):\n",
      "{}\n",
      "number of sample runs: 5\n",
      "loading in data\n",
      "running bootstrap\n",
      "0\n",
      "Predicted vs labels LASSO  EucDist\n",
      "running gridsearch\n",
      "Best parameter (CV score=0.032):\n",
      "{}\n",
      "number of sample runs: 5\n",
      "loading in data\n",
      "running bootstrap\n",
      "0\n"
     ]
    },
    {
     "ename": "KeyboardInterrupt",
     "evalue": "",
     "output_type": "error",
     "traceback": [
      "\u001b[1;31m---------------------------------------------------------------------------\u001b[0m",
      "\u001b[1;31mKeyboardInterrupt\u001b[0m                         Traceback (most recent call last)",
      "Cell \u001b[1;32mIn[3], line 6\u001b[0m\n\u001b[0;32m      3\u001b[0m with_distance \u001b[39m=\u001b[39m [\u001b[39mTrue\u001b[39;00m, \u001b[39mFalse\u001b[39;00m]\n\u001b[0;32m      4\u001b[0m \u001b[39mfor\u001b[39;00m \u001b[39mbool\u001b[39m \u001b[39min\u001b[39;00m with_distance:\n\u001b[1;32m----> 6\u001b[0m     do_everything(\u001b[39mbool\u001b[39;49m, all_dist_metric, model)\n",
      "Cell \u001b[1;32mIn[2], line 108\u001b[0m, in \u001b[0;36mdo_everything\u001b[1;34m(with_distance, with_all_dist_metrics, model)\u001b[0m\n\u001b[0;32m    106\u001b[0m obj \u001b[39m=\u001b[39m gridsearch(x_train_elm, y_train, pipeline, param_grid, distance_metric, with_distance)\n\u001b[0;32m    107\u001b[0m search \u001b[39m=\u001b[39m obj\u001b[39m.\u001b[39mgridsearch\n\u001b[1;32m--> 108\u001b[0m run_confidence_interval(pipeline, param_grid, distance_metric, with_distance,with_all_dist_metrics,\u001b[39mf\u001b[39;49m\u001b[39m\"\u001b[39;49m\u001b[39mCoefficient estimate \u001b[39;49m\u001b[39m{\u001b[39;49;00mname\u001b[39m}\u001b[39;49;00m\u001b[39m\"\u001b[39;49m)\n\u001b[0;32m    109\u001b[0m pred \u001b[39m=\u001b[39m search\u001b[39m.\u001b[39mbest_estimator_\u001b[39m.\u001b[39mpredict(x_test_elm)\n\u001b[0;32m    110\u001b[0m plot_r2(pred, y_test,\u001b[39mf\u001b[39m\u001b[39m\"\u001b[39m\u001b[39mPredicted vs labels \u001b[39m\u001b[39m{\u001b[39;00mname\u001b[39m}\u001b[39;00m\u001b[39m\"\u001b[39m)\n",
      "Cell \u001b[1;32mIn[2], line 56\u001b[0m, in \u001b[0;36mrun_confidence_interval\u001b[1;34m(pipeline, param_grid, distance_metric, with_distance, all_distance_metrics, title)\u001b[0m\n\u001b[0;32m     54\u001b[0m     feature_dict \u001b[39m=\u001b[39m \u001b[39mdict\u001b[39m( \u001b[39msorted\u001b[39m(feature_dict\u001b[39m.\u001b[39mitems(), key\u001b[39m=\u001b[39m\u001b[39mlambda\u001b[39;00m x: x[\u001b[39m0\u001b[39m]\u001b[39m.\u001b[39mlower()) )\n\u001b[0;32m     55\u001b[0m \u001b[39melse\u001b[39;00m:\n\u001b[1;32m---> 56\u001b[0m     s \u001b[39m=\u001b[39m bootstrap(pipeline\u001b[39m=\u001b[39;49m pipeline, param_grid\u001b[39m=\u001b[39;49m param_grid,distance_metric\u001b[39m=\u001b[39;49mdistance_metric,with_dist\u001b[39m=\u001b[39;49m with_distance, n \u001b[39m=\u001b[39;49m n)\n\u001b[0;32m     57\u001b[0m     feature_dict \u001b[39m=\u001b[39m feature_dict_function(s, with_dist\u001b[39m=\u001b[39m with_distance)\n\u001b[0;32m     58\u001b[0m plot_confidence_interval(feature_dict,title)\n",
      "File \u001b[1;32mc:\\Users\\tjupp\\Documents\\GitHub\\Bachelor\\utils\\utilities.py:145\u001b[0m, in \u001b[0;36mbootstrap\u001b[1;34m(pipeline, param_grid, distance_metric, n, with_dist, all_data)\u001b[0m\n\u001b[0;32m    143\u001b[0m     bts_y \u001b[39m=\u001b[39m np\u001b[39m.\u001b[39mlog10([ylist[x][\u001b[39m0\u001b[39m] \u001b[39mfor\u001b[39;00m x \u001b[39min\u001b[39;00m bts_index])\n\u001b[0;32m    144\u001b[0m     search \u001b[39m=\u001b[39m GridSearchCV(pipeline, param_grid, n_jobs\u001b[39m=\u001b[39m\u001b[39m2\u001b[39m,scoring\u001b[39m=\u001b[39m \u001b[39m\"\u001b[39m\u001b[39mr2\u001b[39m\u001b[39m\"\u001b[39m)\n\u001b[1;32m--> 145\u001b[0m     search\u001b[39m.\u001b[39;49mfit(bts_x, bts_y)\n\u001b[0;32m    146\u001b[0m     result\u001b[39m.\u001b[39mappend(search)\n\u001b[0;32m    147\u001b[0m \u001b[39mreturn\u001b[39;00m result\n",
      "File \u001b[1;32mc:\\Users\\tjupp\\AppData\\Local\\Programs\\Python\\Python311\\Lib\\site-packages\\sklearn\\model_selection\\_search.py:874\u001b[0m, in \u001b[0;36mBaseSearchCV.fit\u001b[1;34m(self, X, y, groups, **fit_params)\u001b[0m\n\u001b[0;32m    868\u001b[0m     results \u001b[39m=\u001b[39m \u001b[39mself\u001b[39m\u001b[39m.\u001b[39m_format_results(\n\u001b[0;32m    869\u001b[0m         all_candidate_params, n_splits, all_out, all_more_results\n\u001b[0;32m    870\u001b[0m     )\n\u001b[0;32m    872\u001b[0m     \u001b[39mreturn\u001b[39;00m results\n\u001b[1;32m--> 874\u001b[0m \u001b[39mself\u001b[39;49m\u001b[39m.\u001b[39;49m_run_search(evaluate_candidates)\n\u001b[0;32m    876\u001b[0m \u001b[39m# multimetric is determined here because in the case of a callable\u001b[39;00m\n\u001b[0;32m    877\u001b[0m \u001b[39m# self.scoring the return type is only known after calling\u001b[39;00m\n\u001b[0;32m    878\u001b[0m first_test_score \u001b[39m=\u001b[39m all_out[\u001b[39m0\u001b[39m][\u001b[39m\"\u001b[39m\u001b[39mtest_scores\u001b[39m\u001b[39m\"\u001b[39m]\n",
      "File \u001b[1;32mc:\\Users\\tjupp\\AppData\\Local\\Programs\\Python\\Python311\\Lib\\site-packages\\sklearn\\model_selection\\_search.py:1388\u001b[0m, in \u001b[0;36mGridSearchCV._run_search\u001b[1;34m(self, evaluate_candidates)\u001b[0m\n\u001b[0;32m   1386\u001b[0m \u001b[39mdef\u001b[39;00m \u001b[39m_run_search\u001b[39m(\u001b[39mself\u001b[39m, evaluate_candidates):\n\u001b[0;32m   1387\u001b[0m \u001b[39m    \u001b[39m\u001b[39m\"\"\"Search all candidates in param_grid\"\"\"\u001b[39;00m\n\u001b[1;32m-> 1388\u001b[0m     evaluate_candidates(ParameterGrid(\u001b[39mself\u001b[39;49m\u001b[39m.\u001b[39;49mparam_grid))\n",
      "File \u001b[1;32mc:\\Users\\tjupp\\AppData\\Local\\Programs\\Python\\Python311\\Lib\\site-packages\\sklearn\\model_selection\\_search.py:821\u001b[0m, in \u001b[0;36mBaseSearchCV.fit.<locals>.evaluate_candidates\u001b[1;34m(candidate_params, cv, more_results)\u001b[0m\n\u001b[0;32m    813\u001b[0m \u001b[39mif\u001b[39;00m \u001b[39mself\u001b[39m\u001b[39m.\u001b[39mverbose \u001b[39m>\u001b[39m \u001b[39m0\u001b[39m:\n\u001b[0;32m    814\u001b[0m     \u001b[39mprint\u001b[39m(\n\u001b[0;32m    815\u001b[0m         \u001b[39m\"\u001b[39m\u001b[39mFitting \u001b[39m\u001b[39m{0}\u001b[39;00m\u001b[39m folds for each of \u001b[39m\u001b[39m{1}\u001b[39;00m\u001b[39m candidates,\u001b[39m\u001b[39m\"\u001b[39m\n\u001b[0;32m    816\u001b[0m         \u001b[39m\"\u001b[39m\u001b[39m totalling \u001b[39m\u001b[39m{2}\u001b[39;00m\u001b[39m fits\u001b[39m\u001b[39m\"\u001b[39m\u001b[39m.\u001b[39mformat(\n\u001b[0;32m    817\u001b[0m             n_splits, n_candidates, n_candidates \u001b[39m*\u001b[39m n_splits\n\u001b[0;32m    818\u001b[0m         )\n\u001b[0;32m    819\u001b[0m     )\n\u001b[1;32m--> 821\u001b[0m out \u001b[39m=\u001b[39m parallel(\n\u001b[0;32m    822\u001b[0m     delayed(_fit_and_score)(\n\u001b[0;32m    823\u001b[0m         clone(base_estimator),\n\u001b[0;32m    824\u001b[0m         X,\n\u001b[0;32m    825\u001b[0m         y,\n\u001b[0;32m    826\u001b[0m         train\u001b[39m=\u001b[39;49mtrain,\n\u001b[0;32m    827\u001b[0m         test\u001b[39m=\u001b[39;49mtest,\n\u001b[0;32m    828\u001b[0m         parameters\u001b[39m=\u001b[39;49mparameters,\n\u001b[0;32m    829\u001b[0m         split_progress\u001b[39m=\u001b[39;49m(split_idx, n_splits),\n\u001b[0;32m    830\u001b[0m         candidate_progress\u001b[39m=\u001b[39;49m(cand_idx, n_candidates),\n\u001b[0;32m    831\u001b[0m         \u001b[39m*\u001b[39;49m\u001b[39m*\u001b[39;49mfit_and_score_kwargs,\n\u001b[0;32m    832\u001b[0m     )\n\u001b[0;32m    833\u001b[0m     \u001b[39mfor\u001b[39;49;00m (cand_idx, parameters), (split_idx, (train, test)) \u001b[39min\u001b[39;49;00m product(\n\u001b[0;32m    834\u001b[0m         \u001b[39menumerate\u001b[39;49m(candidate_params), \u001b[39menumerate\u001b[39;49m(cv\u001b[39m.\u001b[39;49msplit(X, y, groups))\n\u001b[0;32m    835\u001b[0m     )\n\u001b[0;32m    836\u001b[0m )\n\u001b[0;32m    838\u001b[0m \u001b[39mif\u001b[39;00m \u001b[39mlen\u001b[39m(out) \u001b[39m<\u001b[39m \u001b[39m1\u001b[39m:\n\u001b[0;32m    839\u001b[0m     \u001b[39mraise\u001b[39;00m \u001b[39mValueError\u001b[39;00m(\n\u001b[0;32m    840\u001b[0m         \u001b[39m\"\u001b[39m\u001b[39mNo fits were performed. \u001b[39m\u001b[39m\"\u001b[39m\n\u001b[0;32m    841\u001b[0m         \u001b[39m\"\u001b[39m\u001b[39mWas the CV iterator empty? \u001b[39m\u001b[39m\"\u001b[39m\n\u001b[0;32m    842\u001b[0m         \u001b[39m\"\u001b[39m\u001b[39mWere there no candidates?\u001b[39m\u001b[39m\"\u001b[39m\n\u001b[0;32m    843\u001b[0m     )\n",
      "File \u001b[1;32mc:\\Users\\tjupp\\AppData\\Local\\Programs\\Python\\Python311\\Lib\\site-packages\\sklearn\\utils\\parallel.py:63\u001b[0m, in \u001b[0;36mParallel.__call__\u001b[1;34m(self, iterable)\u001b[0m\n\u001b[0;32m     58\u001b[0m config \u001b[39m=\u001b[39m get_config()\n\u001b[0;32m     59\u001b[0m iterable_with_config \u001b[39m=\u001b[39m (\n\u001b[0;32m     60\u001b[0m     (_with_config(delayed_func, config), args, kwargs)\n\u001b[0;32m     61\u001b[0m     \u001b[39mfor\u001b[39;00m delayed_func, args, kwargs \u001b[39min\u001b[39;00m iterable\n\u001b[0;32m     62\u001b[0m )\n\u001b[1;32m---> 63\u001b[0m \u001b[39mreturn\u001b[39;00m \u001b[39msuper\u001b[39;49m()\u001b[39m.\u001b[39;49m\u001b[39m__call__\u001b[39;49m(iterable_with_config)\n",
      "File \u001b[1;32mc:\\Users\\tjupp\\AppData\\Local\\Programs\\Python\\Python311\\Lib\\site-packages\\joblib\\parallel.py:1098\u001b[0m, in \u001b[0;36mParallel.__call__\u001b[1;34m(self, iterable)\u001b[0m\n\u001b[0;32m   1095\u001b[0m     \u001b[39mself\u001b[39m\u001b[39m.\u001b[39m_iterating \u001b[39m=\u001b[39m \u001b[39mFalse\u001b[39;00m\n\u001b[0;32m   1097\u001b[0m \u001b[39mwith\u001b[39;00m \u001b[39mself\u001b[39m\u001b[39m.\u001b[39m_backend\u001b[39m.\u001b[39mretrieval_context():\n\u001b[1;32m-> 1098\u001b[0m     \u001b[39mself\u001b[39;49m\u001b[39m.\u001b[39;49mretrieve()\n\u001b[0;32m   1099\u001b[0m \u001b[39m# Make sure that we get a last message telling us we are done\u001b[39;00m\n\u001b[0;32m   1100\u001b[0m elapsed_time \u001b[39m=\u001b[39m time\u001b[39m.\u001b[39mtime() \u001b[39m-\u001b[39m \u001b[39mself\u001b[39m\u001b[39m.\u001b[39m_start_time\n",
      "File \u001b[1;32mc:\\Users\\tjupp\\AppData\\Local\\Programs\\Python\\Python311\\Lib\\site-packages\\joblib\\parallel.py:975\u001b[0m, in \u001b[0;36mParallel.retrieve\u001b[1;34m(self)\u001b[0m\n\u001b[0;32m    973\u001b[0m \u001b[39mtry\u001b[39;00m:\n\u001b[0;32m    974\u001b[0m     \u001b[39mif\u001b[39;00m \u001b[39mgetattr\u001b[39m(\u001b[39mself\u001b[39m\u001b[39m.\u001b[39m_backend, \u001b[39m'\u001b[39m\u001b[39msupports_timeout\u001b[39m\u001b[39m'\u001b[39m, \u001b[39mFalse\u001b[39;00m):\n\u001b[1;32m--> 975\u001b[0m         \u001b[39mself\u001b[39m\u001b[39m.\u001b[39m_output\u001b[39m.\u001b[39mextend(job\u001b[39m.\u001b[39;49mget(timeout\u001b[39m=\u001b[39;49m\u001b[39mself\u001b[39;49m\u001b[39m.\u001b[39;49mtimeout))\n\u001b[0;32m    976\u001b[0m     \u001b[39melse\u001b[39;00m:\n\u001b[0;32m    977\u001b[0m         \u001b[39mself\u001b[39m\u001b[39m.\u001b[39m_output\u001b[39m.\u001b[39mextend(job\u001b[39m.\u001b[39mget())\n",
      "File \u001b[1;32mc:\\Users\\tjupp\\AppData\\Local\\Programs\\Python\\Python311\\Lib\\site-packages\\joblib\\_parallel_backends.py:567\u001b[0m, in \u001b[0;36mLokyBackend.wrap_future_result\u001b[1;34m(future, timeout)\u001b[0m\n\u001b[0;32m    564\u001b[0m \u001b[39m\u001b[39m\u001b[39m\"\"\"Wrapper for Future.result to implement the same behaviour as\u001b[39;00m\n\u001b[0;32m    565\u001b[0m \u001b[39mAsyncResults.get from multiprocessing.\"\"\"\u001b[39;00m\n\u001b[0;32m    566\u001b[0m \u001b[39mtry\u001b[39;00m:\n\u001b[1;32m--> 567\u001b[0m     \u001b[39mreturn\u001b[39;00m future\u001b[39m.\u001b[39;49mresult(timeout\u001b[39m=\u001b[39;49mtimeout)\n\u001b[0;32m    568\u001b[0m \u001b[39mexcept\u001b[39;00m CfTimeoutError \u001b[39mas\u001b[39;00m e:\n\u001b[0;32m    569\u001b[0m     \u001b[39mraise\u001b[39;00m \u001b[39mTimeoutError\u001b[39;00m \u001b[39mfrom\u001b[39;00m \u001b[39me\u001b[39;00m\n",
      "File \u001b[1;32mc:\\Users\\tjupp\\AppData\\Local\\Programs\\Python\\Python311\\Lib\\concurrent\\futures\\_base.py:451\u001b[0m, in \u001b[0;36mFuture.result\u001b[1;34m(self, timeout)\u001b[0m\n\u001b[0;32m    448\u001b[0m \u001b[39melif\u001b[39;00m \u001b[39mself\u001b[39m\u001b[39m.\u001b[39m_state \u001b[39m==\u001b[39m FINISHED:\n\u001b[0;32m    449\u001b[0m     \u001b[39mreturn\u001b[39;00m \u001b[39mself\u001b[39m\u001b[39m.\u001b[39m__get_result()\n\u001b[1;32m--> 451\u001b[0m \u001b[39mself\u001b[39;49m\u001b[39m.\u001b[39;49m_condition\u001b[39m.\u001b[39;49mwait(timeout)\n\u001b[0;32m    453\u001b[0m \u001b[39mif\u001b[39;00m \u001b[39mself\u001b[39m\u001b[39m.\u001b[39m_state \u001b[39min\u001b[39;00m [CANCELLED, CANCELLED_AND_NOTIFIED]:\n\u001b[0;32m    454\u001b[0m     \u001b[39mraise\u001b[39;00m CancelledError()\n",
      "File \u001b[1;32mc:\\Users\\tjupp\\AppData\\Local\\Programs\\Python\\Python311\\Lib\\threading.py:320\u001b[0m, in \u001b[0;36mCondition.wait\u001b[1;34m(self, timeout)\u001b[0m\n\u001b[0;32m    318\u001b[0m \u001b[39mtry\u001b[39;00m:    \u001b[39m# restore state no matter what (e.g., KeyboardInterrupt)\u001b[39;00m\n\u001b[0;32m    319\u001b[0m     \u001b[39mif\u001b[39;00m timeout \u001b[39mis\u001b[39;00m \u001b[39mNone\u001b[39;00m:\n\u001b[1;32m--> 320\u001b[0m         waiter\u001b[39m.\u001b[39;49macquire()\n\u001b[0;32m    321\u001b[0m         gotit \u001b[39m=\u001b[39m \u001b[39mTrue\u001b[39;00m\n\u001b[0;32m    322\u001b[0m     \u001b[39melse\u001b[39;00m:\n",
      "\u001b[1;31mKeyboardInterrupt\u001b[0m: "
     ]
    },
    {
     "data": {
      "text/plain": [
       "<Figure size 640x480 with 0 Axes>"
      ]
     },
     "metadata": {},
     "output_type": "display_data"
    },
    {
     "data": {
      "text/plain": [
       "<Figure size 700x700 with 0 Axes>"
      ]
     },
     "metadata": {},
     "output_type": "display_data"
    },
    {
     "data": {
      "text/plain": [
       "<Figure size 700x700 with 0 Axes>"
      ]
     },
     "metadata": {},
     "output_type": "display_data"
    },
    {
     "data": {
      "text/plain": [
       "<Figure size 700x700 with 0 Axes>"
      ]
     },
     "metadata": {},
     "output_type": "display_data"
    },
    {
     "data": {
      "text/plain": [
       "<Figure size 700x700 with 0 Axes>"
      ]
     },
     "metadata": {},
     "output_type": "display_data"
    },
    {
     "data": {
      "text/plain": [
       "<Figure size 700x700 with 0 Axes>"
      ]
     },
     "metadata": {},
     "output_type": "display_data"
    },
    {
     "data": {
      "text/plain": [
       "<Figure size 700x700 with 0 Axes>"
      ]
     },
     "metadata": {},
     "output_type": "display_data"
    }
   ],
   "source": [
    "model = lasso\n",
    "all_dist_metric = False\n",
    "with_distance = [True, False]\n",
    "for bool in with_distance:\n",
    "\n",
    "    do_everything(bool, all_dist_metric, model)"
   ]
  },
  {
   "cell_type": "code",
   "execution_count": null,
   "metadata": {},
   "outputs": [],
   "source": []
  },
  {
   "cell_type": "code",
   "execution_count": 4,
   "metadata": {},
   "outputs": [],
   "source": [
    "\n",
    "def run():\n",
    "    with_all_dist_metrics = [True,False] \n",
    "    with_distances = [True, False]\n",
    "    models = [lasso, lasso_pca, rf, rf_pca]\n",
    "    for all_dist_metric in with_all_dist_metrics:\n",
    "        for with_distance in with_distances:\n",
    "            for model in models:\n",
    "                print(\"with_distance: \",with_distance) \n",
    "                print(\"all_dist_metric: \",all_dist_metric)\n",
    "                print(\"model: \",model)\n",
    "                do_everything(with_distance, all_dist_metric, model)\n",
    "                print(\"*\"*75)"
   ]
  },
  {
   "cell_type": "code",
   "execution_count": 5,
   "metadata": {},
   "outputs": [
    {
     "name": "stdout",
     "output_type": "stream",
     "text": [
      "with_distance:  True\n",
      "all_dist_metric:  True\n",
      "model:  <function lasso at 0x00000152ABF5F600>\n",
      "running gridsearch\n",
      "Best parameter (CV score=0.609):\n",
      "{}\n",
      "number of sample runs: 5\n",
      "loading in data\n",
      "running bootstrap\n",
      "0\n",
      "Predicted vs labels LASSO  with distance all distance metrics\n",
      "***************************************************************************\n",
      "with_distance:  True\n",
      "all_dist_metric:  True\n",
      "model:  <function lasso_pca at 0x00000152ABDBFBA0>\n",
      "running gridsearch\n",
      "Best parameter (CV score=0.600):\n",
      "{'PCA__n_components': 38}\n",
      "Predicted vs labels LASSO  with distance all distance metrics with PCA\n",
      "***************************************************************************\n",
      "with_distance:  True\n",
      "all_dist_metric:  True\n",
      "model:  <function rf at 0x00000152AD084F40>\n",
      "running gridsearch\n"
     ]
    }
   ],
   "source": [
    "#run()"
   ]
  },
  {
   "cell_type": "code",
   "execution_count": null,
   "metadata": {},
   "outputs": [],
   "source": []
  }
 ],
 "metadata": {
  "kernelspec": {
   "display_name": "Python 3",
   "language": "python",
   "name": "python3"
  },
  "language_info": {
   "codemirror_mode": {
    "name": "ipython",
    "version": 3
   },
   "file_extension": ".py",
   "mimetype": "text/x-python",
   "name": "python",
   "nbconvert_exporter": "python",
   "pygments_lexer": "ipython3",
   "version": "3.11.2"
  },
  "orig_nbformat": 4,
  "vscode": {
   "interpreter": {
    "hash": "916dbcbb3f70747c44a77c7bcd40155683ae19c65e1c03b4aa3499c5328201f1"
   }
  }
 },
 "nbformat": 4,
 "nbformat_minor": 2
}
