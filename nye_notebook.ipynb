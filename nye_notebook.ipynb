{
 "cells": [
  {
   "cell_type": "code",
   "execution_count": 1,
   "metadata": {},
   "outputs": [],
   "source": [
    "from utils.utilities import merge_dfs\n",
    "import pandas as pd\n",
    "d1 = pd.read_csv(\"main2/merged_df.csv\")\n",
    "d2 = pd.read_csv(\"martin_runs/merged_df.csv\")"
   ]
  },
  {
   "cell_type": "code",
   "execution_count": 2,
   "metadata": {},
   "outputs": [],
   "source": [
    "ridge = pd.read_csv(\"ridge/merged_df.csv\")"
   ]
  },
  {
   "cell_type": "code",
   "execution_count": 3,
   "metadata": {},
   "outputs": [
    {
     "name": "stderr",
     "output_type": "stream",
     "text": [
      "/tmp/ipykernel_81231/831957116.py:1: FutureWarning: The frame.append method is deprecated and will be removed from pandas in a future version. Use pandas.concat instead.\n",
      "  data = d1.append(d2)\n"
     ]
    }
   ],
   "source": [
    "data = d1.append(d2)"
   ]
  },
  {
   "cell_type": "code",
   "execution_count": 4,
   "metadata": {},
   "outputs": [],
   "source": [
    "rf = data[data[\"model_name\"] == \"RandomForestRegressor()\"]\n",
    "lasso = data[data[\"model_name\"] != \"RandomForestRegressor()\"]"
   ]
  },
  {
   "cell_type": "code",
   "execution_count": 17,
   "metadata": {},
   "outputs": [
    {
     "data": {
      "text/plain": [
       "13                            {}\n",
       "499    {'PCA__n_components': 38}\n",
       "498    {'PCA__n_components': 36}\n",
       "497    {'PCA__n_components': 34}\n",
       "495    {'PCA__n_components': 30}\n",
       "                 ...            \n",
       "540    {'PCA__n_components': 30}\n",
       "541    {'PCA__n_components': 32}\n",
       "542    {'PCA__n_components': 34}\n",
       "543    {'PCA__n_components': 36}\n",
       "544    {'PCA__n_components': 38}\n",
       "Name: params, Length: 105, dtype: object"
      ]
     },
     "execution_count": 17,
     "metadata": {},
     "output_type": "execute_result"
    }
   ],
   "source": [
    "lasso_with_dist = lasso[lasso[\"with_distance\"] == True]\n",
    "lasso_with_dist.sort_values(\"mean_test_score\",ascending= False)[\"params\"]"
   ]
  },
  {
   "cell_type": "code",
   "execution_count": 18,
   "metadata": {},
   "outputs": [
    {
     "data": {
      "text/plain": [
       "524                           {}\n",
       "193    {'PCA__n_components': 36}\n",
       "194    {'PCA__n_components': 38}\n",
       "191    {'PCA__n_components': 32}\n",
       "192    {'PCA__n_components': 34}\n",
       "                 ...            \n",
       "332    {'PCA__n_components': 32}\n",
       "333    {'PCA__n_components': 34}\n",
       "334    {'PCA__n_components': 36}\n",
       "335    {'PCA__n_components': 38}\n",
       "175     {'PCA__n_components': 0}\n",
       "Name: params, Length: 105, dtype: object"
      ]
     },
     "execution_count": 18,
     "metadata": {},
     "output_type": "execute_result"
    }
   ],
   "source": [
    "lasso_no_dist = lasso[lasso[\"with_distance\"] == False]\n",
    "lasso_no_dist.sort_values(\"mean_test_score\",ascending= False)[\"params\"]"
   ]
  },
  {
   "cell_type": "code",
   "execution_count": 15,
   "metadata": {},
   "outputs": [
    {
     "data": {
      "text/plain": [
       "500    {'rf__criterion': 'squared_error', 'rf__max_de...\n",
       "0      {'rf__criterion': 'squared_error', 'rf__max_de...\n",
       "352    {'PCA__n_components': 28, 'rf__criterion': 'sq...\n",
       "356    {'PCA__n_components': 30, 'rf__criterion': 'sq...\n",
       "360    {'PCA__n_components': 32, 'rf__criterion': 'sq...\n",
       "                             ...                        \n",
       "620    {'PCA__n_components': 36, 'rf__criterion': 'sq...\n",
       "621    {'PCA__n_components': 38, 'rf__criterion': 'sq...\n",
       "622    {'PCA__n_components': 38, 'rf__criterion': 'sq...\n",
       "623    {'PCA__n_components': 38, 'rf__criterion': 'sq...\n",
       "624    {'PCA__n_components': 38, 'rf__criterion': 'sq...\n",
       "Name: params, Length: 420, dtype: object"
      ]
     },
     "execution_count": 15,
     "metadata": {},
     "output_type": "execute_result"
    }
   ],
   "source": [
    "rf_with_dist = rf[rf[\"with_distance\"] == True]\n",
    "rf_with_dist.sort_values(\"mean_test_score\",ascending= False)[\"params\"]"
   ]
  },
  {
   "cell_type": "code",
   "execution_count": 7,
   "metadata": {},
   "outputs": [],
   "source": [
    "rf_no_dist = rf[rf[\"with_distance\"] == False]"
   ]
  },
  {
   "cell_type": "code",
   "execution_count": 16,
   "metadata": {},
   "outputs": [
    {
     "data": {
      "text/plain": [
       "476    {'rf__criterion': 'squared_error', 'rf__max_de...\n",
       "158    {'PCA__n_components': 32, 'rf__criterion': 'sq...\n",
       "162    {'PCA__n_components': 34, 'rf__criterion': 'sq...\n",
       "166    {'PCA__n_components': 36, 'rf__criterion': 'sq...\n",
       "170    {'PCA__n_components': 38, 'rf__criterion': 'sq...\n",
       "                             ...                        \n",
       "415    {'PCA__n_components': 38, 'rf__criterion': 'sq...\n",
       "94     {'PCA__n_components': 0, 'rf__criterion': 'squ...\n",
       "95     {'PCA__n_components': 0, 'rf__criterion': 'squ...\n",
       "96     {'PCA__n_components': 0, 'rf__criterion': 'squ...\n",
       "97     {'PCA__n_components': 0, 'rf__criterion': 'squ...\n",
       "Name: params, Length: 420, dtype: object"
      ]
     },
     "execution_count": 16,
     "metadata": {},
     "output_type": "execute_result"
    }
   ],
   "source": [
    "rf_no_dist.sort_values(\"mean_test_score\",ascending= False)[\"params\"]"
   ]
  },
  {
   "cell_type": "code",
   "execution_count": 1,
   "metadata": {},
   "outputs": [],
   "source": [
    "from sklearn.pipeline import Pipeline\n",
    "from sklearn.preprocessing import StandardScaler\n",
    "from sklearn.linear_model import LassoCV\n",
    "from sklearn.model_selection import GridSearchCV"
   ]
  },
  {
   "cell_type": "code",
   "execution_count": 2,
   "metadata": {},
   "outputs": [],
   "source": [
    "from utils.load import loader, load_everthing"
   ]
  },
  {
   "cell_type": "code",
   "execution_count": 8,
   "metadata": {},
   "outputs": [],
   "source": [
    "with_distance = False\n",
    "with_all_dist_metrics = False\n",
    "x,y = loader(with_distance, with_all_dist_metrics)"
   ]
  },
  {
   "cell_type": "code",
   "execution_count": 4,
   "metadata": {},
   "outputs": [],
   "source": [
    "#x = list(x[\"train\"][\"CosDist\"].keys())"
   ]
  },
  {
   "cell_type": "code",
   "execution_count": 5,
   "metadata": {},
   "outputs": [
    {
     "data": {
      "text/plain": [
       "0"
      ]
     },
     "execution_count": 5,
     "metadata": {},
     "output_type": "execute_result"
    }
   ],
   "source": [
    "a = 0\n",
    "l = set()\n",
    "for elm in x:\n",
    "    t = elm.split(\"_\")\n",
    "    l.add(t[0])\n",
    "    l.add(t[1])\n",
    "a"
   ]
  },
  {
   "cell_type": "code",
   "execution_count": 6,
   "metadata": {},
   "outputs": [
    {
     "data": {
      "text/plain": [
       "{'AE',\n",
       " 'AG',\n",
       " 'AL',\n",
       " 'AM',\n",
       " 'AO',\n",
       " 'AR',\n",
       " 'AT',\n",
       " 'AU',\n",
       " 'AW',\n",
       " 'AZ',\n",
       " 'BA',\n",
       " 'BB',\n",
       " 'BD',\n",
       " 'BE',\n",
       " 'BF',\n",
       " 'BG',\n",
       " 'BH',\n",
       " 'BI',\n",
       " 'BJ',\n",
       " 'BN',\n",
       " 'BO',\n",
       " 'BR',\n",
       " 'BS',\n",
       " 'BT',\n",
       " 'BW',\n",
       " 'BY',\n",
       " 'BZ',\n",
       " 'CA',\n",
       " 'CD',\n",
       " 'CF',\n",
       " 'CG',\n",
       " 'CH',\n",
       " 'CI',\n",
       " 'CL',\n",
       " 'CM',\n",
       " 'CO',\n",
       " 'CR',\n",
       " 'CV',\n",
       " 'CW',\n",
       " 'CY',\n",
       " 'CZ',\n",
       " 'DE',\n",
       " 'DJ',\n",
       " 'DK',\n",
       " 'DO',\n",
       " 'DZ',\n",
       " 'EC',\n",
       " 'EE',\n",
       " 'EG',\n",
       " 'ES',\n",
       " 'ET',\n",
       " 'FI',\n",
       " 'FJ',\n",
       " 'FM',\n",
       " 'FR',\n",
       " 'GA',\n",
       " 'GB',\n",
       " 'GD',\n",
       " 'GE',\n",
       " 'GF',\n",
       " 'GH',\n",
       " 'GM',\n",
       " 'GN',\n",
       " 'GP',\n",
       " 'GQ',\n",
       " 'GR',\n",
       " 'GT',\n",
       " 'GU',\n",
       " 'GW',\n",
       " 'GY',\n",
       " 'HK',\n",
       " 'HN',\n",
       " 'HR',\n",
       " 'HT',\n",
       " 'HU',\n",
       " 'ID',\n",
       " 'IE',\n",
       " 'IM',\n",
       " 'IN',\n",
       " 'IS',\n",
       " 'IT',\n",
       " 'JM',\n",
       " 'JO',\n",
       " 'JP',\n",
       " 'KE',\n",
       " 'KG',\n",
       " 'KH',\n",
       " 'KI',\n",
       " 'KM',\n",
       " 'KR',\n",
       " 'KW',\n",
       " 'KY',\n",
       " 'KZ',\n",
       " 'LA',\n",
       " 'LB',\n",
       " 'LC',\n",
       " 'LK',\n",
       " 'LR',\n",
       " 'LS',\n",
       " 'LT',\n",
       " 'LU',\n",
       " 'LV',\n",
       " 'LY',\n",
       " 'MA',\n",
       " 'MD',\n",
       " 'ME',\n",
       " 'MG',\n",
       " 'MK',\n",
       " 'ML',\n",
       " 'MM',\n",
       " 'MN',\n",
       " 'MO',\n",
       " 'MQ',\n",
       " 'MR',\n",
       " 'MT',\n",
       " 'MU',\n",
       " 'MV',\n",
       " 'MW',\n",
       " 'MX',\n",
       " 'MY',\n",
       " 'MZ',\n",
       " 'NA',\n",
       " 'NC',\n",
       " 'NE',\n",
       " 'NG',\n",
       " 'NI',\n",
       " 'NL',\n",
       " 'NO',\n",
       " 'NP',\n",
       " 'NZ',\n",
       " 'OM',\n",
       " 'PA',\n",
       " 'PE',\n",
       " 'PF',\n",
       " 'PG',\n",
       " 'PH',\n",
       " 'PK',\n",
       " 'PL',\n",
       " 'PR',\n",
       " 'PT',\n",
       " 'PY',\n",
       " 'QA',\n",
       " 'RE',\n",
       " 'RO',\n",
       " 'RS',\n",
       " 'RW',\n",
       " 'SA',\n",
       " 'SB',\n",
       " 'SC',\n",
       " 'SE',\n",
       " 'SG',\n",
       " 'SI',\n",
       " 'SK',\n",
       " 'SL',\n",
       " 'SN',\n",
       " 'SR',\n",
       " 'ST',\n",
       " 'SV',\n",
       " 'SZ',\n",
       " 'TD',\n",
       " 'TG',\n",
       " 'TH',\n",
       " 'TJ',\n",
       " 'TL',\n",
       " 'TN',\n",
       " 'TO',\n",
       " 'TR',\n",
       " 'TT',\n",
       " 'TW',\n",
       " 'TZ',\n",
       " 'UA',\n",
       " 'UG',\n",
       " 'US',\n",
       " 'UY',\n",
       " 'UZ',\n",
       " 'VC',\n",
       " 'VN',\n",
       " 'VU',\n",
       " 'WS',\n",
       " 'XK',\n",
       " 'YT',\n",
       " 'ZA',\n",
       " 'ZM',\n",
       " 'ZW'}"
      ]
     },
     "execution_count": 6,
     "metadata": {},
     "output_type": "execute_result"
    }
   ],
   "source": [
    "l"
   ]
  },
  {
   "cell_type": "code",
   "execution_count": 9,
   "metadata": {},
   "outputs": [],
   "source": [
    "x_train = list(x[\"train\"][\"CosDist\"].values())"
   ]
  },
  {
   "cell_type": "code",
   "execution_count": 10,
   "metadata": {},
   "outputs": [],
   "source": [
    "import numpy as np\n",
    "y_train =[np.log10(x[0])for x in y[\"train\"].values()]"
   ]
  },
  {
   "cell_type": "code",
   "execution_count": 11,
   "metadata": {},
   "outputs": [
    {
     "data": {
      "text/html": [
       "<style>#sk-container-id-1 {color: black;background-color: white;}#sk-container-id-1 pre{padding: 0;}#sk-container-id-1 div.sk-toggleable {background-color: white;}#sk-container-id-1 label.sk-toggleable__label {cursor: pointer;display: block;width: 100%;margin-bottom: 0;padding: 0.3em;box-sizing: border-box;text-align: center;}#sk-container-id-1 label.sk-toggleable__label-arrow:before {content: \"▸\";float: left;margin-right: 0.25em;color: #696969;}#sk-container-id-1 label.sk-toggleable__label-arrow:hover:before {color: black;}#sk-container-id-1 div.sk-estimator:hover label.sk-toggleable__label-arrow:before {color: black;}#sk-container-id-1 div.sk-toggleable__content {max-height: 0;max-width: 0;overflow: hidden;text-align: left;background-color: #f0f8ff;}#sk-container-id-1 div.sk-toggleable__content pre {margin: 0.2em;color: black;border-radius: 0.25em;background-color: #f0f8ff;}#sk-container-id-1 input.sk-toggleable__control:checked~div.sk-toggleable__content {max-height: 200px;max-width: 100%;overflow: auto;}#sk-container-id-1 input.sk-toggleable__control:checked~label.sk-toggleable__label-arrow:before {content: \"▾\";}#sk-container-id-1 div.sk-estimator input.sk-toggleable__control:checked~label.sk-toggleable__label {background-color: #d4ebff;}#sk-container-id-1 div.sk-label input.sk-toggleable__control:checked~label.sk-toggleable__label {background-color: #d4ebff;}#sk-container-id-1 input.sk-hidden--visually {border: 0;clip: rect(1px 1px 1px 1px);clip: rect(1px, 1px, 1px, 1px);height: 1px;margin: -1px;overflow: hidden;padding: 0;position: absolute;width: 1px;}#sk-container-id-1 div.sk-estimator {font-family: monospace;background-color: #f0f8ff;border: 1px dotted black;border-radius: 0.25em;box-sizing: border-box;margin-bottom: 0.5em;}#sk-container-id-1 div.sk-estimator:hover {background-color: #d4ebff;}#sk-container-id-1 div.sk-parallel-item::after {content: \"\";width: 100%;border-bottom: 1px solid gray;flex-grow: 1;}#sk-container-id-1 div.sk-label:hover label.sk-toggleable__label {background-color: #d4ebff;}#sk-container-id-1 div.sk-serial::before {content: \"\";position: absolute;border-left: 1px solid gray;box-sizing: border-box;top: 0;bottom: 0;left: 50%;z-index: 0;}#sk-container-id-1 div.sk-serial {display: flex;flex-direction: column;align-items: center;background-color: white;padding-right: 0.2em;padding-left: 0.2em;position: relative;}#sk-container-id-1 div.sk-item {position: relative;z-index: 1;}#sk-container-id-1 div.sk-parallel {display: flex;align-items: stretch;justify-content: center;background-color: white;position: relative;}#sk-container-id-1 div.sk-item::before, #sk-container-id-1 div.sk-parallel-item::before {content: \"\";position: absolute;border-left: 1px solid gray;box-sizing: border-box;top: 0;bottom: 0;left: 50%;z-index: -1;}#sk-container-id-1 div.sk-parallel-item {display: flex;flex-direction: column;z-index: 1;position: relative;background-color: white;}#sk-container-id-1 div.sk-parallel-item:first-child::after {align-self: flex-end;width: 50%;}#sk-container-id-1 div.sk-parallel-item:last-child::after {align-self: flex-start;width: 50%;}#sk-container-id-1 div.sk-parallel-item:only-child::after {width: 0;}#sk-container-id-1 div.sk-dashed-wrapped {border: 1px dashed gray;margin: 0 0.4em 0.5em 0.4em;box-sizing: border-box;padding-bottom: 0.4em;background-color: white;}#sk-container-id-1 div.sk-label label {font-family: monospace;font-weight: bold;display: inline-block;line-height: 1.2em;}#sk-container-id-1 div.sk-label-container {text-align: center;}#sk-container-id-1 div.sk-container {/* jupyter's `normalize.less` sets `[hidden] { display: none; }` but bootstrap.min.css set `[hidden] { display: none !important; }` so we also need the `!important` here to be able to override the default hidden behavior on the sphinx rendered scikit-learn.org. See: https://github.com/scikit-learn/scikit-learn/issues/21755 */display: inline-block !important;position: relative;}#sk-container-id-1 div.sk-text-repr-fallback {display: none;}</style><div id=\"sk-container-id-1\" class=\"sk-top-container\"><div class=\"sk-text-repr-fallback\"><pre>GridSearchCV(estimator=Pipeline(steps=[(&#x27;StandardScaler&#x27;, StandardScaler()),\n",
       "                                       (&#x27;Lasso_regressor&#x27;,\n",
       "                                        LassoCV(max_iter=100000, tol=0.001))]),\n",
       "             param_grid={})</pre><b>In a Jupyter environment, please rerun this cell to show the HTML representation or trust the notebook. <br />On GitHub, the HTML representation is unable to render, please try loading this page with nbviewer.org.</b></div><div class=\"sk-container\" hidden><div class=\"sk-item sk-dashed-wrapped\"><div class=\"sk-label-container\"><div class=\"sk-label sk-toggleable\"><input class=\"sk-toggleable__control sk-hidden--visually\" id=\"sk-estimator-id-1\" type=\"checkbox\" ><label for=\"sk-estimator-id-1\" class=\"sk-toggleable__label sk-toggleable__label-arrow\">GridSearchCV</label><div class=\"sk-toggleable__content\"><pre>GridSearchCV(estimator=Pipeline(steps=[(&#x27;StandardScaler&#x27;, StandardScaler()),\n",
       "                                       (&#x27;Lasso_regressor&#x27;,\n",
       "                                        LassoCV(max_iter=100000, tol=0.001))]),\n",
       "             param_grid={})</pre></div></div></div><div class=\"sk-parallel\"><div class=\"sk-parallel-item\"><div class=\"sk-item\"><div class=\"sk-label-container\"><div class=\"sk-label sk-toggleable\"><input class=\"sk-toggleable__control sk-hidden--visually\" id=\"sk-estimator-id-2\" type=\"checkbox\" ><label for=\"sk-estimator-id-2\" class=\"sk-toggleable__label sk-toggleable__label-arrow\">estimator: Pipeline</label><div class=\"sk-toggleable__content\"><pre>Pipeline(steps=[(&#x27;StandardScaler&#x27;, StandardScaler()),\n",
       "                (&#x27;Lasso_regressor&#x27;, LassoCV(max_iter=100000, tol=0.001))])</pre></div></div></div><div class=\"sk-serial\"><div class=\"sk-item\"><div class=\"sk-serial\"><div class=\"sk-item\"><div class=\"sk-estimator sk-toggleable\"><input class=\"sk-toggleable__control sk-hidden--visually\" id=\"sk-estimator-id-3\" type=\"checkbox\" ><label for=\"sk-estimator-id-3\" class=\"sk-toggleable__label sk-toggleable__label-arrow\">StandardScaler</label><div class=\"sk-toggleable__content\"><pre>StandardScaler()</pre></div></div></div><div class=\"sk-item\"><div class=\"sk-estimator sk-toggleable\"><input class=\"sk-toggleable__control sk-hidden--visually\" id=\"sk-estimator-id-4\" type=\"checkbox\" ><label for=\"sk-estimator-id-4\" class=\"sk-toggleable__label sk-toggleable__label-arrow\">LassoCV</label><div class=\"sk-toggleable__content\"><pre>LassoCV(max_iter=100000, tol=0.001)</pre></div></div></div></div></div></div></div></div></div></div></div></div>"
      ],
      "text/plain": [
       "GridSearchCV(estimator=Pipeline(steps=[('StandardScaler', StandardScaler()),\n",
       "                                       ('Lasso_regressor',\n",
       "                                        LassoCV(max_iter=100000, tol=0.001))]),\n",
       "             param_grid={})"
      ]
     },
     "execution_count": 11,
     "metadata": {},
     "output_type": "execute_result"
    }
   ],
   "source": [
    "pipe =  Pipeline([(\"StandardScaler\",StandardScaler()),(\"Lasso_regressor\",LassoCV(max_iter= 100000, tol= 0.001))])\n",
    "param_grid = {}\n",
    "search = GridSearchCV(pipe, param_grid)\n",
    "search.fit(x_train, y_train)"
   ]
  },
  {
   "cell_type": "code",
   "execution_count": 18,
   "metadata": {},
   "outputs": [
    {
     "data": {
      "text/plain": [
       "0.006169918124681429"
      ]
     },
     "execution_count": 18,
     "metadata": {},
     "output_type": "execute_result"
    }
   ],
   "source": [
    "search.best_estimator_.steps[-1][-1].alpha_"
   ]
  },
  {
   "cell_type": "code",
   "execution_count": 17,
   "metadata": {},
   "outputs": [
    {
     "data": {
      "text/plain": [
       "['__abstractmethods__',\n",
       " '__annotations__',\n",
       " '__class__',\n",
       " '__delattr__',\n",
       " '__dict__',\n",
       " '__dir__',\n",
       " '__doc__',\n",
       " '__eq__',\n",
       " '__format__',\n",
       " '__ge__',\n",
       " '__getattribute__',\n",
       " '__getstate__',\n",
       " '__gt__',\n",
       " '__hash__',\n",
       " '__init__',\n",
       " '__init_subclass__',\n",
       " '__le__',\n",
       " '__lt__',\n",
       " '__module__',\n",
       " '__ne__',\n",
       " '__new__',\n",
       " '__reduce__',\n",
       " '__reduce_ex__',\n",
       " '__repr__',\n",
       " '__setattr__',\n",
       " '__setstate__',\n",
       " '__sizeof__',\n",
       " '__slots__',\n",
       " '__str__',\n",
       " '__subclasshook__',\n",
       " '__weakref__',\n",
       " '_abc_impl',\n",
       " '_check_feature_names',\n",
       " '_check_n_features',\n",
       " '_decision_function',\n",
       " '_estimator_type',\n",
       " '_get_estimator',\n",
       " '_get_param_names',\n",
       " '_get_tags',\n",
       " '_is_multitask',\n",
       " '_more_tags',\n",
       " '_parameter_constraints',\n",
       " '_repr_html_',\n",
       " '_repr_html_inner',\n",
       " '_repr_mimebundle_',\n",
       " '_set_intercept',\n",
       " '_validate_data',\n",
       " '_validate_params',\n",
       " 'alpha_',\n",
       " 'alphas',\n",
       " 'alphas_',\n",
       " 'coef_',\n",
       " 'copy_X',\n",
       " 'cv',\n",
       " 'dual_gap_',\n",
       " 'eps',\n",
       " 'fit',\n",
       " 'fit_intercept',\n",
       " 'get_params',\n",
       " 'intercept_',\n",
       " 'max_iter',\n",
       " 'mse_path_',\n",
       " 'n_alphas',\n",
       " 'n_features_in_',\n",
       " 'n_iter_',\n",
       " 'n_jobs',\n",
       " 'path',\n",
       " 'positive',\n",
       " 'precompute',\n",
       " 'predict',\n",
       " 'random_state',\n",
       " 'score',\n",
       " 'selection',\n",
       " 'set_params',\n",
       " 'tol',\n",
       " 'verbose']"
      ]
     },
     "execution_count": 17,
     "metadata": {},
     "output_type": "execute_result"
    }
   ],
   "source": [
    "dir(search.best_estimator_.steps[-1][-1])"
   ]
  },
  {
   "cell_type": "code",
   "execution_count": null,
   "metadata": {},
   "outputs": [],
   "source": []
  },
  {
   "cell_type": "code",
   "execution_count": null,
   "metadata": {},
   "outputs": [],
   "source": [
    "pipeline, param_grid = model()\n",
    "#print(pipeline.steps)\n",
    "x,y = loader(with_distance, with_all_dist_metrics)\n",
    "x_train, y_train, x_test, y_test = process(x,y)\n",
    "#If we use all the dist metrics, then we dont loop and simply run gridsearch and so on\n",
    "\n",
    "if with_all_dist_metrics:\n",
    "    name = file_name(with_distance, with_all_dist_metrics, pipeline)"
   ]
  },
  {
   "cell_type": "code",
   "execution_count": 6,
   "metadata": {},
   "outputs": [],
   "source": [
    "from utils.old_functions import remove_self_loops\n",
    "import pandas as pd"
   ]
  },
  {
   "cell_type": "code",
   "execution_count": 7,
   "metadata": {},
   "outputs": [],
   "source": [
    "friendship_data = pd.read_csv(\"data/friendship_data/countries-countries-fb-social-connectedness-index-october-2021.tsv\", delimiter= \"\\t\",keep_default_na=False)\n",
    "friendship_data = remove_self_loops(friendship_data)"
   ]
  },
  {
   "cell_type": "code",
   "execution_count": 19,
   "metadata": {},
   "outputs": [],
   "source": [
    "features = pd.read_csv(\"data/fb_data/FBCosDist_BusinessIndustry.csv\")\n",
    "from utils.old_functions import get_intersection\n",
    "idk = get_intersection()"
   ]
  },
  {
   "cell_type": "code",
   "execution_count": 24,
   "metadata": {},
   "outputs": [],
   "source": [
    "missing = []\n",
    "for elm in features[\"ISO_CODE\"].unique():\n",
    "    if elm not in idk:\n",
    "        missing.append(elm)"
   ]
  },
  {
   "cell_type": "code",
   "execution_count": 86,
   "metadata": {},
   "outputs": [
    {
     "data": {
      "text/plain": [
       "42"
      ]
     },
     "execution_count": 86,
     "metadata": {},
     "output_type": "execute_result"
    }
   ],
   "source": [
    "len(missing)"
   ]
  },
  {
   "cell_type": "code",
   "execution_count": 12,
   "metadata": {},
   "outputs": [
    {
     "data": {
      "text/plain": [
       "185"
      ]
     },
     "execution_count": 12,
     "metadata": {},
     "output_type": "execute_result"
    }
   ],
   "source": [
    "len(friendship_data[\"user_loc\"].unique())"
   ]
  },
  {
   "cell_type": "code",
   "execution_count": 39,
   "metadata": {},
   "outputs": [],
   "source": [
    "from utils.load import create_target_data\n",
    "a,b = create_target_data()"
   ]
  },
  {
   "cell_type": "code",
   "execution_count": null,
   "metadata": {},
   "outputs": [],
   "source": []
  }
 ],
 "metadata": {
  "kernelspec": {
   "display_name": "Python 3",
   "language": "python",
   "name": "python3"
  },
  "language_info": {
   "codemirror_mode": {
    "name": "ipython",
    "version": 3
   },
   "file_extension": ".py",
   "mimetype": "text/x-python",
   "name": "python",
   "nbconvert_exporter": "python",
   "pygments_lexer": "ipython3",
   "version": "3.10.6"
  },
  "orig_nbformat": 4,
  "vscode": {
   "interpreter": {
    "hash": "916dbcbb3f70747c44a77c7bcd40155683ae19c65e1c03b4aa3499c5328201f1"
   }
  }
 },
 "nbformat": 4,
 "nbformat_minor": 2
}
