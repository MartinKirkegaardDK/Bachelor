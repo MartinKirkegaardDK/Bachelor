{
 "cells": [
  {
   "cell_type": "code",
   "execution_count": 1,
   "metadata": {},
   "outputs": [
    {
     "name": "stdout",
     "output_type": "stream",
     "text": [
      "Loading in data\n",
      "CosDist\n",
      "running gridsearch\n",
      "Best parameter (CV score=0.541):\n",
      "{}\n",
      "---------------------------------------------------------------------------\n",
      "EucDist\n",
      "running gridsearch\n",
      "Best parameter (CV score=0.398):\n",
      "{}\n",
      "---------------------------------------------------------------------------\n",
      "HetDist\n",
      "running gridsearch\n",
      "Best parameter (CV score=0.295):\n",
      "{}\n",
      "---------------------------------------------------------------------------\n",
      "ManDist\n",
      "running gridsearch\n",
      "Best parameter (CV score=0.406):\n",
      "{}\n",
      "---------------------------------------------------------------------------\n"
     ]
    }
   ],
   "source": [
    "from src.drivers.train_models.lasso import lasso_with_dist\n",
    "lasso_with_dist()"
   ]
  },
  {
   "cell_type": "code",
   "execution_count": null,
   "metadata": {},
   "outputs": [],
   "source": []
  }
 ],
 "metadata": {
  "kernelspec": {
   "display_name": "Python 3",
   "language": "python",
   "name": "python3"
  },
  "language_info": {
   "codemirror_mode": {
    "name": "ipython",
    "version": 3
   },
   "file_extension": ".py",
   "mimetype": "text/x-python",
   "name": "python",
   "nbconvert_exporter": "python",
   "pygments_lexer": "ipython3",
   "version": "3.10.6"
  },
  "orig_nbformat": 4
 },
 "nbformat": 4,
 "nbformat_minor": 2
}
