{
 "cells": [
  {
   "cell_type": "code",
   "execution_count": 8,
   "metadata": {},
   "outputs": [],
   "source": [
    "import pandas as pd\n",
    "from sklearn.svm import SVC\n",
    "import lib\n",
    "import numpy as np\n",
    "import mlflow\n",
    "import mlflow.sklearn\n",
    "from sklearn.linear_model import LinearRegression\n"
   ]
  },
  {
   "cell_type": "code",
   "execution_count": 2,
   "metadata": {},
   "outputs": [],
   "source": [
    "friendship_data = pd.read_csv(\"friendship_data/countries-countries-fb-social-connectedness-index-october-2021.tsv\", delimiter= \"\\t\",keep_default_na=False)\n",
    "friendship_data = lib.preprocess(friendship_data)\n",
    "\n",
    "codes = list(friendship_data[\"ISO_CODE\"])\n",
    "cartesian_df = lib.create_cartesian_product(codes)\n",
    "cartesian_df.insert(0,'ISO_CODES',codes)\n",
    "cartesian_df = lib.select_relevant_cells(cartesian_df)\n",
    "label_names = lib.from_diagonal_to_list(cartesian_df)\n",
    "friendship_data = lib.df_to_list(friendship_data)"
   ]
  },
  {
   "cell_type": "code",
   "execution_count": 3,
   "metadata": {},
   "outputs": [],
   "source": [
    "fb_data_technology = lib.load(\"fb_data/FBCosDist_Technology.csv\",\",\")\n",
    "fb_data_technology = lib.preprocess(fb_data_technology)\n",
    "fb_data_technology = lib.df_to_list(fb_data_technology)\n",
    "\n"
   ]
  },
  {
   "cell_type": "code",
   "execution_count": 4,
   "metadata": {},
   "outputs": [],
   "source": [
    "fb_data_business = lib.load(\"fb_data/FBCosDist_BusinessIndustry.csv\",\",\")\n",
    "fb_data_business = lib.preprocess(fb_data_business)\n",
    "fb_data_business = lib.df_to_list(fb_data_business)"
   ]
  },
  {
   "cell_type": "code",
   "execution_count": 5,
   "metadata": {},
   "outputs": [],
   "source": [
    "\n",
    "X_list = [fb_data_technology,fb_data_business]\n",
    "Y_list = [friendship_data]\n",
    "X_dict = lib.create_label_dict(label_names,X_list)\n",
    "Y_dict = lib.create_label_dict(label_names, Y_list)"
   ]
  },
  {
   "cell_type": "code",
   "execution_count": 10,
   "metadata": {},
   "outputs": [
    {
     "name": "stdout",
     "output_type": "stream",
     "text": [
      "Our score:  0.0026088736862152073\n"
     ]
    }
   ],
   "source": [
    "\n",
    "\n",
    "with mlflow.start_run():\n",
    "\n",
    "    X = list(X_dict.values())\n",
    "    y = list(Y_dict.values())\n",
    "    reg = LinearRegression().fit(X, y)\n",
    "    score = reg.score(X, y)\n",
    "\n",
    "\n",
    "    print(\"Our score: \",reg.score(X, y))\n",
    "\n",
    "    mlflow.log_metric(\"score\", score)\n",
    "    mlflow.sklearn.log_model(reg, \"model\")\n"
   ]
  },
  {
   "cell_type": "code",
   "execution_count": null,
   "metadata": {},
   "outputs": [],
   "source": []
  }
 ],
 "metadata": {
  "kernelspec": {
   "display_name": "Python 3.9.6 64-bit",
   "language": "python",
   "name": "python3"
  },
  "language_info": {
   "codemirror_mode": {
    "name": "ipython",
    "version": 3
   },
   "file_extension": ".py",
   "mimetype": "text/x-python",
   "name": "python",
   "nbconvert_exporter": "python",
   "pygments_lexer": "ipython3",
   "version": "3.9.6"
  },
  "orig_nbformat": 4,
  "vscode": {
   "interpreter": {
    "hash": "31f2aee4e71d21fbe5cf8b01ff0e069b9275f58929596ceb00d14d90e3e16cd6"
   }
  }
 },
 "nbformat": 4,
 "nbformat_minor": 2
}
